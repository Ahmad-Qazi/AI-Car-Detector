{
  "nbformat": 4,
  "nbformat_minor": 0,
  "metadata": {
    "colab": {
      "provenance": [],
      "gpuType": "T4"
    },
    "kernelspec": {
      "name": "python3",
      "display_name": "Python 3"
    },
    "language_info": {
      "name": "python"
    },
    "accelerator": "GPU"
  },
  "cells": [
    {
      "cell_type": "code",
      "execution_count": 3,
      "metadata": {
        "colab": {
          "base_uri": "https://localhost:8080/"
        },
        "id": "nBLTKTOsd0Dz",
        "outputId": "92745357-0ff6-4a64-a282-df51e542a9c2"
      },
      "outputs": [
        {
          "output_type": "stream",
          "name": "stdout",
          "text": [
            "Collecting ultralytics\n",
            "  Downloading ultralytics-8.3.55-py3-none-any.whl.metadata (35 kB)\n",
            "Requirement already satisfied: numpy>=1.23.0 in /usr/local/lib/python3.10/dist-packages (from ultralytics) (1.26.4)\n",
            "Requirement already satisfied: matplotlib>=3.3.0 in /usr/local/lib/python3.10/dist-packages (from ultralytics) (3.8.0)\n",
            "Requirement already satisfied: opencv-python>=4.6.0 in /usr/local/lib/python3.10/dist-packages (from ultralytics) (4.10.0.84)\n",
            "Requirement already satisfied: pillow>=7.1.2 in /usr/local/lib/python3.10/dist-packages (from ultralytics) (11.0.0)\n",
            "Requirement already satisfied: pyyaml>=5.3.1 in /usr/local/lib/python3.10/dist-packages (from ultralytics) (6.0.2)\n",
            "Requirement already satisfied: requests>=2.23.0 in /usr/local/lib/python3.10/dist-packages (from ultralytics) (2.32.3)\n",
            "Requirement already satisfied: scipy>=1.4.1 in /usr/local/lib/python3.10/dist-packages (from ultralytics) (1.13.1)\n",
            "Requirement already satisfied: torch>=1.8.0 in /usr/local/lib/python3.10/dist-packages (from ultralytics) (2.5.1+cu121)\n",
            "Requirement already satisfied: torchvision>=0.9.0 in /usr/local/lib/python3.10/dist-packages (from ultralytics) (0.20.1+cu121)\n",
            "Requirement already satisfied: tqdm>=4.64.0 in /usr/local/lib/python3.10/dist-packages (from ultralytics) (4.67.1)\n",
            "Requirement already satisfied: psutil in /usr/local/lib/python3.10/dist-packages (from ultralytics) (5.9.5)\n",
            "Requirement already satisfied: py-cpuinfo in /usr/local/lib/python3.10/dist-packages (from ultralytics) (9.0.0)\n",
            "Requirement already satisfied: pandas>=1.1.4 in /usr/local/lib/python3.10/dist-packages (from ultralytics) (2.2.2)\n",
            "Requirement already satisfied: seaborn>=0.11.0 in /usr/local/lib/python3.10/dist-packages (from ultralytics) (0.13.2)\n",
            "Collecting ultralytics-thop>=2.0.0 (from ultralytics)\n",
            "  Downloading ultralytics_thop-2.0.13-py3-none-any.whl.metadata (9.4 kB)\n",
            "Requirement already satisfied: contourpy>=1.0.1 in /usr/local/lib/python3.10/dist-packages (from matplotlib>=3.3.0->ultralytics) (1.3.1)\n",
            "Requirement already satisfied: cycler>=0.10 in /usr/local/lib/python3.10/dist-packages (from matplotlib>=3.3.0->ultralytics) (0.12.1)\n",
            "Requirement already satisfied: fonttools>=4.22.0 in /usr/local/lib/python3.10/dist-packages (from matplotlib>=3.3.0->ultralytics) (4.55.3)\n",
            "Requirement already satisfied: kiwisolver>=1.0.1 in /usr/local/lib/python3.10/dist-packages (from matplotlib>=3.3.0->ultralytics) (1.4.7)\n",
            "Requirement already satisfied: packaging>=20.0 in /usr/local/lib/python3.10/dist-packages (from matplotlib>=3.3.0->ultralytics) (24.2)\n",
            "Requirement already satisfied: pyparsing>=2.3.1 in /usr/local/lib/python3.10/dist-packages (from matplotlib>=3.3.0->ultralytics) (3.2.0)\n",
            "Requirement already satisfied: python-dateutil>=2.7 in /usr/local/lib/python3.10/dist-packages (from matplotlib>=3.3.0->ultralytics) (2.8.2)\n",
            "Requirement already satisfied: pytz>=2020.1 in /usr/local/lib/python3.10/dist-packages (from pandas>=1.1.4->ultralytics) (2024.2)\n",
            "Requirement already satisfied: tzdata>=2022.7 in /usr/local/lib/python3.10/dist-packages (from pandas>=1.1.4->ultralytics) (2024.2)\n",
            "Requirement already satisfied: charset-normalizer<4,>=2 in /usr/local/lib/python3.10/dist-packages (from requests>=2.23.0->ultralytics) (3.4.0)\n",
            "Requirement already satisfied: idna<4,>=2.5 in /usr/local/lib/python3.10/dist-packages (from requests>=2.23.0->ultralytics) (3.10)\n",
            "Requirement already satisfied: urllib3<3,>=1.21.1 in /usr/local/lib/python3.10/dist-packages (from requests>=2.23.0->ultralytics) (2.2.3)\n",
            "Requirement already satisfied: certifi>=2017.4.17 in /usr/local/lib/python3.10/dist-packages (from requests>=2.23.0->ultralytics) (2024.12.14)\n",
            "Requirement already satisfied: filelock in /usr/local/lib/python3.10/dist-packages (from torch>=1.8.0->ultralytics) (3.16.1)\n",
            "Requirement already satisfied: typing-extensions>=4.8.0 in /usr/local/lib/python3.10/dist-packages (from torch>=1.8.0->ultralytics) (4.12.2)\n",
            "Requirement already satisfied: networkx in /usr/local/lib/python3.10/dist-packages (from torch>=1.8.0->ultralytics) (3.4.2)\n",
            "Requirement already satisfied: jinja2 in /usr/local/lib/python3.10/dist-packages (from torch>=1.8.0->ultralytics) (3.1.4)\n",
            "Requirement already satisfied: fsspec in /usr/local/lib/python3.10/dist-packages (from torch>=1.8.0->ultralytics) (2024.10.0)\n",
            "Requirement already satisfied: sympy==1.13.1 in /usr/local/lib/python3.10/dist-packages (from torch>=1.8.0->ultralytics) (1.13.1)\n",
            "Requirement already satisfied: mpmath<1.4,>=1.1.0 in /usr/local/lib/python3.10/dist-packages (from sympy==1.13.1->torch>=1.8.0->ultralytics) (1.3.0)\n",
            "Requirement already satisfied: six>=1.5 in /usr/local/lib/python3.10/dist-packages (from python-dateutil>=2.7->matplotlib>=3.3.0->ultralytics) (1.17.0)\n",
            "Requirement already satisfied: MarkupSafe>=2.0 in /usr/local/lib/python3.10/dist-packages (from jinja2->torch>=1.8.0->ultralytics) (3.0.2)\n",
            "Downloading ultralytics-8.3.55-py3-none-any.whl (904 kB)\n",
            "\u001b[2K   \u001b[90m━━━━━━━━━━━━━━━━━━━━━━━━━━━━━━━━━━━━━━━━\u001b[0m \u001b[32m904.3/904.3 kB\u001b[0m \u001b[31m36.8 MB/s\u001b[0m eta \u001b[36m0:00:00\u001b[0m\n",
            "\u001b[?25hDownloading ultralytics_thop-2.0.13-py3-none-any.whl (26 kB)\n",
            "Installing collected packages: ultralytics-thop, ultralytics\n",
            "Successfully installed ultralytics-8.3.55 ultralytics-thop-2.0.13\n"
          ]
        }
      ],
      "source": [
        "!pip install ultralytics"
      ]
    },
    {
      "cell_type": "code",
      "source": [
        "from ultralytics import YOLO\n",
        "\n",
        "# Load a pre-trained YOLOv8 model (choose 'yolov8n', 'yolov8s', 'yolov8m', 'yolov8l', or 'yolov8x' depending on your needs)\n",
        "model = YOLO('yolov8s.pt')  # Replace with the appropriate model size\n",
        "\n",
        "# Train the model\n",
        "results = model.train(\n",
        "    data='/content/drive/MyDrive/Car/data.yaml',  # Path to your dataset YAML file\n",
        "    epochs=20,                # Number of training epochs\n",
        "    imgsz=640,                # Image size for training\n",
        "    batch=16,                 # Batch\n",
        "    device=0,                 # Device to train on (0 for GPU, 'cpu' for CPU)\n",
        "    name='custom_yolov8_model'  # Name for the training run\n",
        ")\n",
        "\n",
        "# Evaluate the model\n",
        "metrics = model.val()\n",
        "\n",
        "# Export the trained model to different formats (e.g., ONNX, TensorRT)\n",
        "model.export(format='onnx')  # Replace 'onnx' with other formats as needed"
      ],
      "metadata": {
        "colab": {
          "base_uri": "https://localhost:8080/",
          "height": 1000
        },
        "id": "aNheouJ9ghf-",
        "outputId": "76575b1b-d378-4ef6-e5fd-074499c25797"
      },
      "execution_count": 4,
      "outputs": [
        {
          "output_type": "stream",
          "name": "stdout",
          "text": [
            "Creating new Ultralytics Settings v0.0.6 file ✅ \n",
            "View Ultralytics Settings with 'yolo settings' or at '/root/.config/Ultralytics/settings.json'\n",
            "Update Settings with 'yolo settings key=value', i.e. 'yolo settings runs_dir=path/to/dir'. For help see https://docs.ultralytics.com/quickstart/#ultralytics-settings.\n",
            "Downloading https://github.com/ultralytics/assets/releases/download/v8.3.0/yolov8s.pt to 'yolov8s.pt'...\n"
          ]
        },
        {
          "output_type": "stream",
          "name": "stderr",
          "text": [
            "100%|██████████| 21.5M/21.5M [00:00<00:00, 93.2MB/s]\n"
          ]
        },
        {
          "output_type": "stream",
          "name": "stdout",
          "text": [
            "Ultralytics 8.3.55 🚀 Python-3.10.12 torch-2.5.1+cu121 CUDA:0 (Tesla T4, 15102MiB)\n",
            "\u001b[34m\u001b[1mengine/trainer: \u001b[0mtask=detect, mode=train, model=yolov8s.pt, data=/content/drive/MyDrive/Car/data.yaml, epochs=20, time=None, patience=100, batch=16, imgsz=640, save=True, save_period=-1, cache=False, device=0, workers=8, project=None, name=custom_yolov8_model, exist_ok=False, pretrained=True, optimizer=auto, verbose=True, seed=0, deterministic=True, single_cls=False, rect=False, cos_lr=False, close_mosaic=10, resume=False, amp=True, fraction=1.0, profile=False, freeze=None, multi_scale=False, overlap_mask=True, mask_ratio=4, dropout=0.0, val=True, split=val, save_json=False, save_hybrid=False, conf=None, iou=0.7, max_det=300, half=False, dnn=False, plots=True, source=None, vid_stride=1, stream_buffer=False, visualize=False, augment=False, agnostic_nms=False, classes=None, retina_masks=False, embed=None, show=False, save_frames=False, save_txt=False, save_conf=False, save_crop=False, show_labels=True, show_conf=True, show_boxes=True, line_width=None, format=torchscript, keras=False, optimize=False, int8=False, dynamic=False, simplify=True, opset=None, workspace=None, nms=False, lr0=0.01, lrf=0.01, momentum=0.937, weight_decay=0.0005, warmup_epochs=3.0, warmup_momentum=0.8, warmup_bias_lr=0.1, box=7.5, cls=0.5, dfl=1.5, pose=12.0, kobj=1.0, nbs=64, hsv_h=0.015, hsv_s=0.7, hsv_v=0.4, degrees=0.0, translate=0.1, scale=0.5, shear=0.0, perspective=0.0, flipud=0.0, fliplr=0.5, bgr=0.0, mosaic=1.0, mixup=0.0, copy_paste=0.0, copy_paste_mode=flip, auto_augment=randaugment, erasing=0.4, crop_fraction=1.0, cfg=None, tracker=botsort.yaml, save_dir=runs/detect/custom_yolov8_model\n",
            "Downloading https://ultralytics.com/assets/Arial.ttf to '/root/.config/Ultralytics/Arial.ttf'...\n"
          ]
        },
        {
          "output_type": "stream",
          "name": "stderr",
          "text": [
            "100%|██████████| 755k/755k [00:00<00:00, 43.0MB/s]\n"
          ]
        },
        {
          "output_type": "stream",
          "name": "stdout",
          "text": [
            "Overriding model.yaml nc=80 with nc=2\n",
            "\n",
            "                   from  n    params  module                                       arguments                     \n",
            "  0                  -1  1       928  ultralytics.nn.modules.conv.Conv             [3, 32, 3, 2]                 \n",
            "  1                  -1  1     18560  ultralytics.nn.modules.conv.Conv             [32, 64, 3, 2]                \n",
            "  2                  -1  1     29056  ultralytics.nn.modules.block.C2f             [64, 64, 1, True]             \n",
            "  3                  -1  1     73984  ultralytics.nn.modules.conv.Conv             [64, 128, 3, 2]               \n",
            "  4                  -1  2    197632  ultralytics.nn.modules.block.C2f             [128, 128, 2, True]           \n",
            "  5                  -1  1    295424  ultralytics.nn.modules.conv.Conv             [128, 256, 3, 2]              \n",
            "  6                  -1  2    788480  ultralytics.nn.modules.block.C2f             [256, 256, 2, True]           \n",
            "  7                  -1  1   1180672  ultralytics.nn.modules.conv.Conv             [256, 512, 3, 2]              \n",
            "  8                  -1  1   1838080  ultralytics.nn.modules.block.C2f             [512, 512, 1, True]           \n",
            "  9                  -1  1    656896  ultralytics.nn.modules.block.SPPF            [512, 512, 5]                 \n",
            " 10                  -1  1         0  torch.nn.modules.upsampling.Upsample         [None, 2, 'nearest']          \n",
            " 11             [-1, 6]  1         0  ultralytics.nn.modules.conv.Concat           [1]                           \n",
            " 12                  -1  1    591360  ultralytics.nn.modules.block.C2f             [768, 256, 1]                 \n",
            " 13                  -1  1         0  torch.nn.modules.upsampling.Upsample         [None, 2, 'nearest']          \n",
            " 14             [-1, 4]  1         0  ultralytics.nn.modules.conv.Concat           [1]                           \n",
            " 15                  -1  1    148224  ultralytics.nn.modules.block.C2f             [384, 128, 1]                 \n",
            " 16                  -1  1    147712  ultralytics.nn.modules.conv.Conv             [128, 128, 3, 2]              \n",
            " 17            [-1, 12]  1         0  ultralytics.nn.modules.conv.Concat           [1]                           \n",
            " 18                  -1  1    493056  ultralytics.nn.modules.block.C2f             [384, 256, 1]                 \n",
            " 19                  -1  1    590336  ultralytics.nn.modules.conv.Conv             [256, 256, 3, 2]              \n",
            " 20             [-1, 9]  1         0  ultralytics.nn.modules.conv.Concat           [1]                           \n",
            " 21                  -1  1   1969152  ultralytics.nn.modules.block.C2f             [768, 512, 1]                 \n",
            " 22        [15, 18, 21]  1   2116822  ultralytics.nn.modules.head.Detect           [2, [128, 256, 512]]          \n",
            "Model summary: 225 layers, 11,136,374 parameters, 11,136,358 gradients, 28.6 GFLOPs\n",
            "\n",
            "Transferred 349/355 items from pretrained weights\n",
            "\u001b[34m\u001b[1mTensorBoard: \u001b[0mStart with 'tensorboard --logdir runs/detect/custom_yolov8_model', view at http://localhost:6006/\n",
            "Freezing layer 'model.22.dfl.conv.weight'\n",
            "\u001b[34m\u001b[1mAMP: \u001b[0mrunning Automatic Mixed Precision (AMP) checks...\n",
            "Downloading https://github.com/ultralytics/assets/releases/download/v8.3.0/yolo11n.pt to 'yolo11n.pt'...\n"
          ]
        },
        {
          "output_type": "stream",
          "name": "stderr",
          "text": [
            "100%|██████████| 5.35M/5.35M [00:00<00:00, 167MB/s]\n"
          ]
        },
        {
          "output_type": "stream",
          "name": "stdout",
          "text": [
            "\u001b[34m\u001b[1mAMP: \u001b[0mchecks passed ✅\n"
          ]
        },
        {
          "output_type": "stream",
          "name": "stderr",
          "text": [
            "\u001b[34m\u001b[1mtrain: \u001b[0mScanning /content/drive/MyDrive/Car/train/labels.cache... 158 images, 7 backgrounds, 0 corrupt: 100%|██████████| 158/158 [00:00<?, ?it/s]\n"
          ]
        },
        {
          "output_type": "stream",
          "name": "stdout",
          "text": [
            "\u001b[34m\u001b[1malbumentations: \u001b[0mBlur(p=0.01, blur_limit=(3, 7)), MedianBlur(p=0.01, blur_limit=(3, 7)), ToGray(p=0.01, num_output_channels=3, method='weighted_average'), CLAHE(p=0.01, clip_limit=(1.0, 4.0), tile_grid_size=(8, 8))\n"
          ]
        },
        {
          "output_type": "stream",
          "name": "stderr",
          "text": [
            "/usr/local/lib/python3.10/dist-packages/albumentations/__init__.py:24: UserWarning: A new version of Albumentations is available: 1.4.24 (you have 1.4.20). Upgrade using: pip install -U albumentations. To disable automatic update checks, set the environment variable NO_ALBUMENTATIONS_UPDATE to 1.\n",
            "  check_for_updates()\n",
            "\u001b[34m\u001b[1mval: \u001b[0mScanning /content/drive/MyDrive/Car/train/labels.cache... 158 images, 7 backgrounds, 0 corrupt: 100%|██████████| 158/158 [00:00<?, ?it/s]\n"
          ]
        },
        {
          "output_type": "stream",
          "name": "stdout",
          "text": [
            "Plotting labels to runs/detect/custom_yolov8_model/labels.jpg... \n",
            "\u001b[34m\u001b[1moptimizer:\u001b[0m 'optimizer=auto' found, ignoring 'lr0=0.01' and 'momentum=0.937' and determining best 'optimizer', 'lr0' and 'momentum' automatically... \n",
            "\u001b[34m\u001b[1moptimizer:\u001b[0m AdamW(lr=0.001667, momentum=0.9) with parameter groups 57 weight(decay=0.0), 64 weight(decay=0.0005), 63 bias(decay=0.0)\n",
            "\u001b[34m\u001b[1mTensorBoard: \u001b[0mmodel graph visualization added ✅\n",
            "Image sizes 640 train, 640 val\n",
            "Using 2 dataloader workers\n",
            "Logging results to \u001b[1mruns/detect/custom_yolov8_model\u001b[0m\n",
            "Starting training for 20 epochs...\n",
            "\n",
            "      Epoch    GPU_mem   box_loss   cls_loss   dfl_loss  Instances       Size\n"
          ]
        },
        {
          "output_type": "stream",
          "name": "stderr",
          "text": [
            "       1/20      4.05G      1.904      2.284      1.234        264        640: 100%|██████████| 10/10 [00:05<00:00,  1.87it/s]\n",
            "                 Class     Images  Instances      Box(P          R      mAP50  mAP50-95): 100%|██████████| 5/5 [00:04<00:00,  1.11it/s]"
          ]
        },
        {
          "output_type": "stream",
          "name": "stdout",
          "text": [
            "                   all        158       2578      0.312      0.273      0.247       0.11\n"
          ]
        },
        {
          "output_type": "stream",
          "name": "stderr",
          "text": [
            "\n"
          ]
        },
        {
          "output_type": "stream",
          "name": "stdout",
          "text": [
            "\n",
            "      Epoch    GPU_mem   box_loss   cls_loss   dfl_loss  Instances       Size\n"
          ]
        },
        {
          "output_type": "stream",
          "name": "stderr",
          "text": [
            "       2/20      4.17G      1.693      1.033      1.133        246        640: 100%|██████████| 10/10 [00:03<00:00,  2.76it/s]\n",
            "                 Class     Images  Instances      Box(P          R      mAP50  mAP50-95): 100%|██████████| 5/5 [00:02<00:00,  2.17it/s]"
          ]
        },
        {
          "output_type": "stream",
          "name": "stdout",
          "text": [
            "                   all        158       2578      0.883      0.301      0.317      0.134\n"
          ]
        },
        {
          "output_type": "stream",
          "name": "stderr",
          "text": [
            "\n"
          ]
        },
        {
          "output_type": "stream",
          "name": "stdout",
          "text": [
            "\n",
            "      Epoch    GPU_mem   box_loss   cls_loss   dfl_loss  Instances       Size\n"
          ]
        },
        {
          "output_type": "stream",
          "name": "stderr",
          "text": [
            "       3/20      4.05G      1.675     0.8863      1.122        306        640: 100%|██████████| 10/10 [00:02<00:00,  3.38it/s]\n",
            "                 Class     Images  Instances      Box(P          R      mAP50  mAP50-95): 100%|██████████| 5/5 [00:01<00:00,  2.59it/s]"
          ]
        },
        {
          "output_type": "stream",
          "name": "stdout",
          "text": [
            "                   all        158       2578      0.896      0.329      0.353      0.151\n"
          ]
        },
        {
          "output_type": "stream",
          "name": "stderr",
          "text": [
            "\n"
          ]
        },
        {
          "output_type": "stream",
          "name": "stdout",
          "text": [
            "\n",
            "      Epoch    GPU_mem   box_loss   cls_loss   dfl_loss  Instances       Size\n"
          ]
        },
        {
          "output_type": "stream",
          "name": "stderr",
          "text": [
            "       4/20      4.14G       1.64      0.797      1.096        310        640: 100%|██████████| 10/10 [00:04<00:00,  2.17it/s]\n",
            "                 Class     Images  Instances      Box(P          R      mAP50  mAP50-95): 100%|██████████| 5/5 [00:03<00:00,  1.55it/s]"
          ]
        },
        {
          "output_type": "stream",
          "name": "stdout",
          "text": [
            "                   all        158       2578      0.416      0.475      0.387      0.173\n"
          ]
        },
        {
          "output_type": "stream",
          "name": "stderr",
          "text": [
            "\n"
          ]
        },
        {
          "output_type": "stream",
          "name": "stdout",
          "text": [
            "\n",
            "      Epoch    GPU_mem   box_loss   cls_loss   dfl_loss  Instances       Size\n"
          ]
        },
        {
          "output_type": "stream",
          "name": "stderr",
          "text": [
            "       5/20       4.5G      1.643     0.7658      1.109        287        640: 100%|██████████| 10/10 [00:03<00:00,  3.15it/s]\n",
            "                 Class     Images  Instances      Box(P          R      mAP50  mAP50-95): 100%|██████████| 5/5 [00:01<00:00,  2.60it/s]"
          ]
        },
        {
          "output_type": "stream",
          "name": "stdout",
          "text": [
            "                   all        158       2578      0.895       0.32      0.362      0.156\n"
          ]
        },
        {
          "output_type": "stream",
          "name": "stderr",
          "text": [
            "\n"
          ]
        },
        {
          "output_type": "stream",
          "name": "stdout",
          "text": [
            "\n",
            "      Epoch    GPU_mem   box_loss   cls_loss   dfl_loss  Instances       Size\n"
          ]
        },
        {
          "output_type": "stream",
          "name": "stderr",
          "text": [
            "       6/20      4.48G      1.617     0.7888      1.108        239        640: 100%|██████████| 10/10 [00:03<00:00,  2.96it/s]\n",
            "                 Class     Images  Instances      Box(P          R      mAP50  mAP50-95): 100%|██████████| 5/5 [00:04<00:00,  1.22it/s]"
          ]
        },
        {
          "output_type": "stream",
          "name": "stdout",
          "text": [
            "                   all        158       2578      0.887      0.319      0.331      0.147\n"
          ]
        },
        {
          "output_type": "stream",
          "name": "stderr",
          "text": [
            "\n"
          ]
        },
        {
          "output_type": "stream",
          "name": "stdout",
          "text": [
            "\n",
            "      Epoch    GPU_mem   box_loss   cls_loss   dfl_loss  Instances       Size\n"
          ]
        },
        {
          "output_type": "stream",
          "name": "stderr",
          "text": [
            "       7/20      4.41G      1.591      0.789      1.088        317        640: 100%|██████████| 10/10 [00:03<00:00,  2.91it/s]\n",
            "                 Class     Images  Instances      Box(P          R      mAP50  mAP50-95): 100%|██████████| 5/5 [00:01<00:00,  2.62it/s]"
          ]
        },
        {
          "output_type": "stream",
          "name": "stdout",
          "text": [
            "                   all        158       2578      0.456      0.409      0.405      0.166\n"
          ]
        },
        {
          "output_type": "stream",
          "name": "stderr",
          "text": [
            "\n"
          ]
        },
        {
          "output_type": "stream",
          "name": "stdout",
          "text": [
            "\n",
            "      Epoch    GPU_mem   box_loss   cls_loss   dfl_loss  Instances       Size\n"
          ]
        },
        {
          "output_type": "stream",
          "name": "stderr",
          "text": [
            "       8/20      4.24G       1.55     0.7185       1.07        279        640: 100%|██████████| 10/10 [00:02<00:00,  3.42it/s]\n",
            "                 Class     Images  Instances      Box(P          R      mAP50  mAP50-95): 100%|██████████| 5/5 [00:01<00:00,  2.58it/s]"
          ]
        },
        {
          "output_type": "stream",
          "name": "stdout",
          "text": [
            "                   all        158       2578      0.386       0.51       0.53      0.214\n"
          ]
        },
        {
          "output_type": "stream",
          "name": "stderr",
          "text": [
            "\n"
          ]
        },
        {
          "output_type": "stream",
          "name": "stdout",
          "text": [
            "\n",
            "      Epoch    GPU_mem   box_loss   cls_loss   dfl_loss  Instances       Size\n"
          ]
        },
        {
          "output_type": "stream",
          "name": "stderr",
          "text": [
            "       9/20      4.23G      1.574     0.7361       1.09        246        640: 100%|██████████| 10/10 [00:03<00:00,  2.83it/s]\n",
            "                 Class     Images  Instances      Box(P          R      mAP50  mAP50-95): 100%|██████████| 5/5 [00:03<00:00,  1.41it/s]"
          ]
        },
        {
          "output_type": "stream",
          "name": "stdout",
          "text": [
            "                   all        158       2578      0.901      0.312       0.37      0.174\n"
          ]
        },
        {
          "output_type": "stream",
          "name": "stderr",
          "text": [
            "\n"
          ]
        },
        {
          "output_type": "stream",
          "name": "stdout",
          "text": [
            "\n",
            "      Epoch    GPU_mem   box_loss   cls_loss   dfl_loss  Instances       Size\n"
          ]
        },
        {
          "output_type": "stream",
          "name": "stderr",
          "text": [
            "      10/20      4.18G      1.515     0.6774      1.047        261        640: 100%|██████████| 10/10 [00:02<00:00,  3.46it/s]\n",
            "                 Class     Images  Instances      Box(P          R      mAP50  mAP50-95): 100%|██████████| 5/5 [00:01<00:00,  2.62it/s]"
          ]
        },
        {
          "output_type": "stream",
          "name": "stdout",
          "text": [
            "                   all        158       2578      0.893      0.337      0.456      0.181\n"
          ]
        },
        {
          "output_type": "stream",
          "name": "stderr",
          "text": [
            "\n"
          ]
        },
        {
          "output_type": "stream",
          "name": "stdout",
          "text": [
            "Closing dataloader mosaic\n",
            "\u001b[34m\u001b[1malbumentations: \u001b[0mBlur(p=0.01, blur_limit=(3, 7)), MedianBlur(p=0.01, blur_limit=(3, 7)), ToGray(p=0.01, num_output_channels=3, method='weighted_average'), CLAHE(p=0.01, clip_limit=(1.0, 4.0), tile_grid_size=(8, 8))\n",
            "\n",
            "      Epoch    GPU_mem   box_loss   cls_loss   dfl_loss  Instances       Size\n"
          ]
        },
        {
          "output_type": "stream",
          "name": "stderr",
          "text": [
            "      11/20      3.85G       1.57     0.7375      1.081        199        640: 100%|██████████| 10/10 [00:04<00:00,  2.05it/s]\n",
            "                 Class     Images  Instances      Box(P          R      mAP50  mAP50-95): 100%|██████████| 5/5 [00:03<00:00,  1.52it/s]"
          ]
        },
        {
          "output_type": "stream",
          "name": "stdout",
          "text": [
            "                   all        158       2578       0.49      0.521       0.44      0.182\n"
          ]
        },
        {
          "output_type": "stream",
          "name": "stderr",
          "text": [
            "\n"
          ]
        },
        {
          "output_type": "stream",
          "name": "stdout",
          "text": [
            "\n",
            "      Epoch    GPU_mem   box_loss   cls_loss   dfl_loss  Instances       Size\n"
          ]
        },
        {
          "output_type": "stream",
          "name": "stderr",
          "text": [
            "      12/20      3.93G      1.559     0.7566      1.117        122        640: 100%|██████████| 10/10 [00:03<00:00,  2.86it/s]\n",
            "                 Class     Images  Instances      Box(P          R      mAP50  mAP50-95): 100%|██████████| 5/5 [00:02<00:00,  2.43it/s]"
          ]
        },
        {
          "output_type": "stream",
          "name": "stdout",
          "text": [
            "                   all        158       2578      0.519      0.574      0.483      0.191\n"
          ]
        },
        {
          "output_type": "stream",
          "name": "stderr",
          "text": [
            "\n"
          ]
        },
        {
          "output_type": "stream",
          "name": "stdout",
          "text": [
            "\n",
            "      Epoch    GPU_mem   box_loss   cls_loss   dfl_loss  Instances       Size\n"
          ]
        },
        {
          "output_type": "stream",
          "name": "stderr",
          "text": [
            "      13/20      3.77G      1.527     0.7189      1.124        134        640: 100%|██████████| 10/10 [00:02<00:00,  3.52it/s]\n",
            "                 Class     Images  Instances      Box(P          R      mAP50  mAP50-95): 100%|██████████| 5/5 [00:01<00:00,  2.64it/s]"
          ]
        },
        {
          "output_type": "stream",
          "name": "stdout",
          "text": [
            "                   all        158       2578      0.803      0.495      0.537      0.219\n"
          ]
        },
        {
          "output_type": "stream",
          "name": "stderr",
          "text": [
            "\n"
          ]
        },
        {
          "output_type": "stream",
          "name": "stdout",
          "text": [
            "\n",
            "      Epoch    GPU_mem   box_loss   cls_loss   dfl_loss  Instances       Size\n"
          ]
        },
        {
          "output_type": "stream",
          "name": "stderr",
          "text": [
            "      14/20      3.95G      1.525     0.7397       1.08        136        640: 100%|██████████| 10/10 [00:03<00:00,  2.77it/s]\n",
            "                 Class     Images  Instances      Box(P          R      mAP50  mAP50-95): 100%|██████████| 5/5 [00:03<00:00,  1.33it/s]"
          ]
        },
        {
          "output_type": "stream",
          "name": "stdout",
          "text": [
            "                   all        158       2578       0.63      0.589      0.557      0.224\n"
          ]
        },
        {
          "output_type": "stream",
          "name": "stderr",
          "text": [
            "\n"
          ]
        },
        {
          "output_type": "stream",
          "name": "stdout",
          "text": [
            "\n",
            "      Epoch    GPU_mem   box_loss   cls_loss   dfl_loss  Instances       Size\n"
          ]
        },
        {
          "output_type": "stream",
          "name": "stderr",
          "text": [
            "      15/20      3.75G      1.476     0.6778      1.084        212        640: 100%|██████████| 10/10 [00:02<00:00,  3.52it/s]\n",
            "                 Class     Images  Instances      Box(P          R      mAP50  mAP50-95): 100%|██████████| 5/5 [00:01<00:00,  2.65it/s]"
          ]
        },
        {
          "output_type": "stream",
          "name": "stdout",
          "text": [
            "                   all        158       2578      0.572      0.617      0.537      0.221\n"
          ]
        },
        {
          "output_type": "stream",
          "name": "stderr",
          "text": [
            "\n"
          ]
        },
        {
          "output_type": "stream",
          "name": "stdout",
          "text": [
            "\n",
            "      Epoch    GPU_mem   box_loss   cls_loss   dfl_loss  Instances       Size\n"
          ]
        },
        {
          "output_type": "stream",
          "name": "stderr",
          "text": [
            "      16/20      3.81G       1.49     0.6697       1.07        202        640: 100%|██████████| 10/10 [00:02<00:00,  3.56it/s]\n",
            "                 Class     Images  Instances      Box(P          R      mAP50  mAP50-95): 100%|██████████| 5/5 [00:02<00:00,  2.12it/s]"
          ]
        },
        {
          "output_type": "stream",
          "name": "stdout",
          "text": [
            "                   all        158       2578      0.528      0.611      0.497      0.217\n"
          ]
        },
        {
          "output_type": "stream",
          "name": "stderr",
          "text": [
            "\n"
          ]
        },
        {
          "output_type": "stream",
          "name": "stdout",
          "text": [
            "\n",
            "      Epoch    GPU_mem   box_loss   cls_loss   dfl_loss  Instances       Size\n"
          ]
        },
        {
          "output_type": "stream",
          "name": "stderr",
          "text": [
            "      17/20      3.78G      1.492     0.6665      1.065        206        640: 100%|██████████| 10/10 [00:03<00:00,  2.57it/s]\n",
            "                 Class     Images  Instances      Box(P          R      mAP50  mAP50-95): 100%|██████████| 5/5 [00:03<00:00,  1.67it/s]"
          ]
        },
        {
          "output_type": "stream",
          "name": "stdout",
          "text": [
            "                   all        158       2578      0.504      0.573      0.514       0.22\n"
          ]
        },
        {
          "output_type": "stream",
          "name": "stderr",
          "text": [
            "\n"
          ]
        },
        {
          "output_type": "stream",
          "name": "stdout",
          "text": [
            "\n",
            "      Epoch    GPU_mem   box_loss   cls_loss   dfl_loss  Instances       Size\n"
          ]
        },
        {
          "output_type": "stream",
          "name": "stderr",
          "text": [
            "      18/20      3.93G      1.449     0.6584      1.063        131        640: 100%|██████████| 10/10 [00:02<00:00,  3.52it/s]\n",
            "                 Class     Images  Instances      Box(P          R      mAP50  mAP50-95): 100%|██████████| 5/5 [00:01<00:00,  2.78it/s]"
          ]
        },
        {
          "output_type": "stream",
          "name": "stdout",
          "text": [
            "                   all        158       2578      0.493      0.602      0.489      0.227\n"
          ]
        },
        {
          "output_type": "stream",
          "name": "stderr",
          "text": [
            "\n"
          ]
        },
        {
          "output_type": "stream",
          "name": "stdout",
          "text": [
            "\n",
            "      Epoch    GPU_mem   box_loss   cls_loss   dfl_loss  Instances       Size\n"
          ]
        },
        {
          "output_type": "stream",
          "name": "stderr",
          "text": [
            "      19/20      3.78G      1.444     0.6535      1.063        117        640: 100%|██████████| 10/10 [00:02<00:00,  3.43it/s]\n",
            "                 Class     Images  Instances      Box(P          R      mAP50  mAP50-95): 100%|██████████| 5/5 [00:02<00:00,  1.68it/s]"
          ]
        },
        {
          "output_type": "stream",
          "name": "stdout",
          "text": [
            "                   all        158       2578      0.562      0.623      0.553       0.24\n"
          ]
        },
        {
          "output_type": "stream",
          "name": "stderr",
          "text": [
            "\n"
          ]
        },
        {
          "output_type": "stream",
          "name": "stdout",
          "text": [
            "\n",
            "      Epoch    GPU_mem   box_loss   cls_loss   dfl_loss  Instances       Size\n"
          ]
        },
        {
          "output_type": "stream",
          "name": "stderr",
          "text": [
            "      20/20      3.79G      1.467     0.6597      1.067        157        640: 100%|██████████| 10/10 [00:03<00:00,  2.85it/s]\n",
            "                 Class     Images  Instances      Box(P          R      mAP50  mAP50-95): 100%|██████████| 5/5 [00:01<00:00,  2.62it/s]"
          ]
        },
        {
          "output_type": "stream",
          "name": "stdout",
          "text": [
            "                   all        158       2578      0.555      0.588      0.512      0.238\n"
          ]
        },
        {
          "output_type": "stream",
          "name": "stderr",
          "text": [
            "\n"
          ]
        },
        {
          "output_type": "stream",
          "name": "stdout",
          "text": [
            "\n",
            "20 epochs completed in 0.041 hours.\n",
            "Optimizer stripped from runs/detect/custom_yolov8_model/weights/last.pt, 22.5MB\n",
            "Optimizer stripped from runs/detect/custom_yolov8_model/weights/best.pt, 22.5MB\n",
            "\n",
            "Validating runs/detect/custom_yolov8_model/weights/best.pt...\n",
            "Ultralytics 8.3.55 🚀 Python-3.10.12 torch-2.5.1+cu121 CUDA:0 (Tesla T4, 15102MiB)\n",
            "Model summary (fused): 168 layers, 11,126,358 parameters, 0 gradients, 28.4 GFLOPs\n"
          ]
        },
        {
          "output_type": "stream",
          "name": "stderr",
          "text": [
            "                 Class     Images  Instances      Box(P          R      mAP50  mAP50-95): 100%|██████████| 5/5 [00:04<00:00,  1.11it/s]\n"
          ]
        },
        {
          "output_type": "stream",
          "name": "stdout",
          "text": [
            "                   all        158       2578      0.562      0.623      0.553       0.24\n",
            "                   car        140       2557      0.691       0.77      0.752      0.403\n",
            "                   man         11         21      0.432      0.476      0.354     0.0769\n",
            "Speed: 0.5ms preprocess, 5.7ms inference, 0.0ms loss, 3.5ms postprocess per image\n",
            "Results saved to \u001b[1mruns/detect/custom_yolov8_model\u001b[0m\n",
            "Ultralytics 8.3.55 🚀 Python-3.10.12 torch-2.5.1+cu121 CUDA:0 (Tesla T4, 15102MiB)\n",
            "Model summary (fused): 168 layers, 11,126,358 parameters, 0 gradients, 28.4 GFLOPs\n"
          ]
        },
        {
          "output_type": "stream",
          "name": "stderr",
          "text": [
            "\u001b[34m\u001b[1mval: \u001b[0mScanning /content/drive/MyDrive/Car/train/labels.cache... 158 images, 7 backgrounds, 0 corrupt: 100%|██████████| 158/158 [00:00<?, ?it/s]\n",
            "                 Class     Images  Instances      Box(P          R      mAP50  mAP50-95): 100%|██████████| 10/10 [00:05<00:00,  2.00it/s]\n"
          ]
        },
        {
          "output_type": "stream",
          "name": "stdout",
          "text": [
            "                   all        158       2578      0.532      0.599      0.516      0.235\n",
            "                   car        140       2557      0.686      0.768       0.75      0.403\n",
            "                   man         11         21      0.377      0.429      0.282     0.0677\n",
            "Speed: 0.3ms preprocess, 9.6ms inference, 0.0ms loss, 4.2ms postprocess per image\n",
            "Results saved to \u001b[1mruns/detect/custom_yolov8_model2\u001b[0m\n",
            "Ultralytics 8.3.55 🚀 Python-3.10.12 torch-2.5.1+cu121 CPU (Intel Xeon 2.00GHz)\n",
            "\n",
            "\u001b[34m\u001b[1mPyTorch:\u001b[0m starting from 'runs/detect/custom_yolov8_model/weights/best.pt' with input shape (1, 3, 640, 640) BCHW and output shape(s) (1, 6, 8400) (21.5 MB)\n",
            "\u001b[31m\u001b[1mrequirements:\u001b[0m Ultralytics requirements ['onnx>=1.12.0', 'onnxslim', 'onnxruntime-gpu'] not found, attempting AutoUpdate...\n",
            "Collecting onnx>=1.12.0\n",
            "  Downloading onnx-1.17.0-cp310-cp310-manylinux_2_17_x86_64.manylinux2014_x86_64.whl.metadata (16 kB)\n",
            "Collecting onnxslim\n",
            "  Downloading onnxslim-0.1.45-py3-none-any.whl.metadata (4.2 kB)\n",
            "Collecting onnxruntime-gpu\n",
            "  Downloading onnxruntime_gpu-1.20.1-cp310-cp310-manylinux_2_27_x86_64.manylinux_2_28_x86_64.whl.metadata (4.5 kB)\n",
            "Requirement already satisfied: numpy>=1.20 in /usr/local/lib/python3.10/dist-packages (from onnx>=1.12.0) (1.26.4)\n",
            "Requirement already satisfied: protobuf>=3.20.2 in /usr/local/lib/python3.10/dist-packages (from onnx>=1.12.0) (4.25.5)\n",
            "Requirement already satisfied: sympy in /usr/local/lib/python3.10/dist-packages (from onnxslim) (1.13.1)\n",
            "Requirement already satisfied: packaging in /usr/local/lib/python3.10/dist-packages (from onnxslim) (24.2)\n",
            "Collecting coloredlogs (from onnxruntime-gpu)\n",
            "  Downloading coloredlogs-15.0.1-py2.py3-none-any.whl.metadata (12 kB)\n",
            "Requirement already satisfied: flatbuffers in /usr/local/lib/python3.10/dist-packages (from onnxruntime-gpu) (24.3.25)\n",
            "Collecting humanfriendly>=9.1 (from coloredlogs->onnxruntime-gpu)\n",
            "  Downloading humanfriendly-10.0-py2.py3-none-any.whl.metadata (9.2 kB)\n",
            "Requirement already satisfied: mpmath<1.4,>=1.1.0 in /usr/local/lib/python3.10/dist-packages (from sympy->onnxslim) (1.3.0)\n",
            "Downloading onnx-1.17.0-cp310-cp310-manylinux_2_17_x86_64.manylinux2014_x86_64.whl (16.0 MB)\n",
            "   ━━━━━━━━━━━━━━━━━━━━━━━━━━━━━━━━━━━━━━━━ 16.0/16.0 MB 233.4 MB/s eta 0:00:00\n",
            "Downloading onnxslim-0.1.45-py3-none-any.whl (142 kB)\n",
            "   ━━━━━━━━━━━━━━━━━━━━━━━━━━━━━━━━━━━━━━━━ 142.6/142.6 kB 207.4 MB/s eta 0:00:00\n",
            "Downloading onnxruntime_gpu-1.20.1-cp310-cp310-manylinux_2_27_x86_64.manylinux_2_28_x86_64.whl (291.5 MB)\n",
            "   ━━━━━━━━━━━━━━━━━━━━━━━━━━━━━━━━━━━━━━━━ 291.5/291.5 MB 175.9 MB/s eta 0:00:00\n",
            "Downloading coloredlogs-15.0.1-py2.py3-none-any.whl (46 kB)\n",
            "   ━━━━━━━━━━━━━━━━━━━━━━━━━━━━━━━━━━━━━━━━ 46.0/46.0 kB 190.8 MB/s eta 0:00:00\n",
            "Downloading humanfriendly-10.0-py2.py3-none-any.whl (86 kB)\n",
            "   ━━━━━━━━━━━━━━━━━━━━━━━━━━━━━━━━━━━━━━━━ 86.8/86.8 kB 218.2 MB/s eta 0:00:00\n",
            "Installing collected packages: onnx, humanfriendly, onnxslim, coloredlogs, onnxruntime-gpu\n",
            "Successfully installed coloredlogs-15.0.1 humanfriendly-10.0 onnx-1.17.0 onnxruntime-gpu-1.20.1 onnxslim-0.1.45\n",
            "\n",
            "\u001b[31m\u001b[1mrequirements:\u001b[0m AutoUpdate success ✅ 26.8s, installed 3 packages: ['onnx>=1.12.0', 'onnxslim', 'onnxruntime-gpu']\n",
            "\u001b[31m\u001b[1mrequirements:\u001b[0m ⚠️ \u001b[1mRestart runtime or rerun command for updates to take effect\u001b[0m\n",
            "\n",
            "\n",
            "\u001b[34m\u001b[1mONNX:\u001b[0m starting export with onnx 1.17.0 opset 19...\n",
            "\u001b[34m\u001b[1mONNX:\u001b[0m slimming with onnxslim 0.1.45...\n",
            "\u001b[34m\u001b[1mONNX:\u001b[0m export success ✅ 29.2s, saved as 'runs/detect/custom_yolov8_model/weights/best.onnx' (42.7 MB)\n",
            "\n",
            "Export complete (31.3s)\n",
            "Results saved to \u001b[1m/content/runs/detect/custom_yolov8_model/weights\u001b[0m\n",
            "Predict:         yolo predict task=detect model=runs/detect/custom_yolov8_model/weights/best.onnx imgsz=640  \n",
            "Validate:        yolo val task=detect model=runs/detect/custom_yolov8_model/weights/best.onnx imgsz=640 data=/content/drive/MyDrive/Car/data.yaml  \n",
            "Visualize:       https://netron.app\n"
          ]
        },
        {
          "output_type": "execute_result",
          "data": {
            "text/plain": [
              "'runs/detect/custom_yolov8_model/weights/best.onnx'"
            ],
            "application/vnd.google.colaboratory.intrinsic+json": {
              "type": "string"
            }
          },
          "metadata": {},
          "execution_count": 4
        }
      ]
    },
    {
      "cell_type": "code",
      "source": [
        "from ultralytics import YOLO\n",
        "model=YOLO(r\"/content/runs/detect/custom_yolov8_model/weights/best.pt\")\n",
        "result=model.predict(r\"/content/data.mp4\",save=True)"
      ],
      "metadata": {
        "colab": {
          "base_uri": "https://localhost:8080/"
        },
        "id": "D8yyqAQi8mam",
        "outputId": "d5e4fd50-0062-4c66-c27b-31cdcf23af1f"
      },
      "execution_count": 5,
      "outputs": [
        {
          "output_type": "stream",
          "name": "stdout",
          "text": [
            "\n",
            "\n",
            "WARNING ⚠️ inference results will accumulate in RAM unless `stream=True` is passed, causing potential out-of-memory\n",
            "errors for large sources or long-running streams and videos. See https://docs.ultralytics.com/modes/predict/ for help.\n",
            "\n",
            "Example:\n",
            "    results = model(source=..., stream=True)  # generator of Results objects\n",
            "    for r in results:\n",
            "        boxes = r.boxes  # Boxes object for bbox outputs\n",
            "        masks = r.masks  # Masks object for segment masks outputs\n",
            "        probs = r.probs  # Class probabilities for classification outputs\n",
            "\n",
            "video 1/1 (frame 1/716) /content/data.mp4: 384x640 2 cars, 71.0ms\n",
            "video 1/1 (frame 2/716) /content/data.mp4: 384x640 2 cars, 16.6ms\n",
            "video 1/1 (frame 3/716) /content/data.mp4: 384x640 2 cars, 28.6ms\n",
            "video 1/1 (frame 4/716) /content/data.mp4: 384x640 2 cars, 10.8ms\n",
            "video 1/1 (frame 5/716) /content/data.mp4: 384x640 2 cars, 13.1ms\n",
            "video 1/1 (frame 6/716) /content/data.mp4: 384x640 2 cars, 12.3ms\n",
            "video 1/1 (frame 7/716) /content/data.mp4: 384x640 2 cars, 10.8ms\n",
            "video 1/1 (frame 8/716) /content/data.mp4: 384x640 2 cars, 16.7ms\n",
            "video 1/1 (frame 9/716) /content/data.mp4: 384x640 2 cars, 13.4ms\n",
            "video 1/1 (frame 10/716) /content/data.mp4: 384x640 2 cars, 15.7ms\n",
            "video 1/1 (frame 11/716) /content/data.mp4: 384x640 2 cars, 13.3ms\n",
            "video 1/1 (frame 12/716) /content/data.mp4: 384x640 2 cars, 11.0ms\n",
            "video 1/1 (frame 13/716) /content/data.mp4: 384x640 3 cars, 12.5ms\n",
            "video 1/1 (frame 14/716) /content/data.mp4: 384x640 2 cars, 15.4ms\n",
            "video 1/1 (frame 15/716) /content/data.mp4: 384x640 1 car, 12.9ms\n",
            "video 1/1 (frame 16/716) /content/data.mp4: 384x640 1 car, 15.5ms\n",
            "video 1/1 (frame 17/716) /content/data.mp4: 384x640 1 car, 10.8ms\n",
            "video 1/1 (frame 18/716) /content/data.mp4: 384x640 1 car, 10.8ms\n",
            "video 1/1 (frame 19/716) /content/data.mp4: 384x640 1 car, 12.3ms\n",
            "video 1/1 (frame 20/716) /content/data.mp4: 384x640 1 car, 13.4ms\n",
            "video 1/1 (frame 21/716) /content/data.mp4: 384x640 1 car, 10.8ms\n",
            "video 1/1 (frame 22/716) /content/data.mp4: 384x640 1 car, 10.9ms\n",
            "video 1/1 (frame 23/716) /content/data.mp4: 384x640 1 car, 12.3ms\n",
            "video 1/1 (frame 24/716) /content/data.mp4: 384x640 1 car, 13.8ms\n",
            "video 1/1 (frame 25/716) /content/data.mp4: 384x640 1 car, 24.9ms\n",
            "video 1/1 (frame 26/716) /content/data.mp4: 384x640 1 car, 15.5ms\n",
            "video 1/1 (frame 27/716) /content/data.mp4: 384x640 1 car, 17.3ms\n",
            "video 1/1 (frame 28/716) /content/data.mp4: 384x640 1 car, 10.8ms\n",
            "video 1/1 (frame 29/716) /content/data.mp4: 384x640 1 car, 14.9ms\n",
            "video 1/1 (frame 30/716) /content/data.mp4: 384x640 1 car, 10.8ms\n",
            "video 1/1 (frame 31/716) /content/data.mp4: 384x640 1 car, 10.8ms\n",
            "video 1/1 (frame 32/716) /content/data.mp4: 384x640 1 car, 10.8ms\n",
            "video 1/1 (frame 33/716) /content/data.mp4: 384x640 1 car, 13.4ms\n",
            "video 1/1 (frame 34/716) /content/data.mp4: 384x640 1 car, 10.8ms\n",
            "video 1/1 (frame 35/716) /content/data.mp4: 384x640 1 car, 15.8ms\n",
            "video 1/1 (frame 36/716) /content/data.mp4: 384x640 1 car, 11.9ms\n",
            "video 1/1 (frame 37/716) /content/data.mp4: 384x640 1 car, 11.3ms\n",
            "video 1/1 (frame 38/716) /content/data.mp4: 384x640 1 car, 19.3ms\n",
            "video 1/1 (frame 39/716) /content/data.mp4: 384x640 (no detections), 14.9ms\n",
            "video 1/1 (frame 40/716) /content/data.mp4: 384x640 (no detections), 19.6ms\n",
            "video 1/1 (frame 41/716) /content/data.mp4: 384x640 (no detections), 12.3ms\n",
            "video 1/1 (frame 42/716) /content/data.mp4: 384x640 (no detections), 10.8ms\n",
            "video 1/1 (frame 43/716) /content/data.mp4: 384x640 (no detections), 10.8ms\n",
            "video 1/1 (frame 44/716) /content/data.mp4: 384x640 (no detections), 10.8ms\n",
            "video 1/1 (frame 45/716) /content/data.mp4: 384x640 (no detections), 10.8ms\n",
            "video 1/1 (frame 46/716) /content/data.mp4: 384x640 (no detections), 14.7ms\n",
            "video 1/1 (frame 47/716) /content/data.mp4: 384x640 (no detections), 11.4ms\n",
            "video 1/1 (frame 48/716) /content/data.mp4: 384x640 (no detections), 14.8ms\n",
            "video 1/1 (frame 49/716) /content/data.mp4: 384x640 (no detections), 11.3ms\n",
            "video 1/1 (frame 50/716) /content/data.mp4: 384x640 (no detections), 16.1ms\n",
            "video 1/1 (frame 51/716) /content/data.mp4: 384x640 (no detections), 10.9ms\n",
            "video 1/1 (frame 52/716) /content/data.mp4: 384x640 (no detections), 12.7ms\n",
            "video 1/1 (frame 53/716) /content/data.mp4: 384x640 (no detections), 11.3ms\n",
            "video 1/1 (frame 54/716) /content/data.mp4: 384x640 (no detections), 10.8ms\n",
            "video 1/1 (frame 55/716) /content/data.mp4: 384x640 (no detections), 10.8ms\n",
            "video 1/1 (frame 56/716) /content/data.mp4: 384x640 (no detections), 10.8ms\n",
            "video 1/1 (frame 57/716) /content/data.mp4: 384x640 (no detections), 10.8ms\n",
            "video 1/1 (frame 58/716) /content/data.mp4: 384x640 (no detections), 15.6ms\n",
            "video 1/1 (frame 59/716) /content/data.mp4: 384x640 (no detections), 12.4ms\n",
            "video 1/1 (frame 60/716) /content/data.mp4: 384x640 (no detections), 10.8ms\n",
            "video 1/1 (frame 61/716) /content/data.mp4: 384x640 (no detections), 10.8ms\n",
            "video 1/1 (frame 62/716) /content/data.mp4: 384x640 (no detections), 19.2ms\n",
            "video 1/1 (frame 63/716) /content/data.mp4: 384x640 (no detections), 31.5ms\n",
            "video 1/1 (frame 64/716) /content/data.mp4: 384x640 (no detections), 10.8ms\n",
            "video 1/1 (frame 65/716) /content/data.mp4: 384x640 (no detections), 10.9ms\n",
            "video 1/1 (frame 66/716) /content/data.mp4: 384x640 (no detections), 14.8ms\n",
            "video 1/1 (frame 67/716) /content/data.mp4: 384x640 (no detections), 15.9ms\n",
            "video 1/1 (frame 68/716) /content/data.mp4: 384x640 (no detections), 10.8ms\n",
            "video 1/1 (frame 69/716) /content/data.mp4: 384x640 (no detections), 10.8ms\n",
            "video 1/1 (frame 70/716) /content/data.mp4: 384x640 (no detections), 10.8ms\n",
            "video 1/1 (frame 71/716) /content/data.mp4: 384x640 (no detections), 17.2ms\n",
            "video 1/1 (frame 72/716) /content/data.mp4: 384x640 (no detections), 11.2ms\n",
            "video 1/1 (frame 73/716) /content/data.mp4: 384x640 (no detections), 10.8ms\n",
            "video 1/1 (frame 74/716) /content/data.mp4: 384x640 (no detections), 10.8ms\n",
            "video 1/1 (frame 75/716) /content/data.mp4: 384x640 (no detections), 10.8ms\n",
            "video 1/1 (frame 76/716) /content/data.mp4: 384x640 (no detections), 19.1ms\n",
            "video 1/1 (frame 77/716) /content/data.mp4: 384x640 (no detections), 10.8ms\n",
            "video 1/1 (frame 78/716) /content/data.mp4: 384x640 (no detections), 10.8ms\n",
            "video 1/1 (frame 79/716) /content/data.mp4: 384x640 (no detections), 10.8ms\n",
            "video 1/1 (frame 80/716) /content/data.mp4: 384x640 (no detections), 11.6ms\n",
            "video 1/1 (frame 81/716) /content/data.mp4: 384x640 (no detections), 18.4ms\n",
            "video 1/1 (frame 82/716) /content/data.mp4: 384x640 (no detections), 16.4ms\n",
            "video 1/1 (frame 83/716) /content/data.mp4: 384x640 1 car, 12.8ms\n",
            "video 1/1 (frame 84/716) /content/data.mp4: 384x640 1 car, 12.5ms\n",
            "video 1/1 (frame 85/716) /content/data.mp4: 384x640 1 car, 15.3ms\n",
            "video 1/1 (frame 86/716) /content/data.mp4: 384x640 1 car, 10.8ms\n",
            "video 1/1 (frame 87/716) /content/data.mp4: 384x640 1 car, 10.8ms\n",
            "video 1/1 (frame 88/716) /content/data.mp4: 384x640 1 car, 10.8ms\n",
            "video 1/1 (frame 89/716) /content/data.mp4: 384x640 1 car, 10.8ms\n",
            "video 1/1 (frame 90/716) /content/data.mp4: 384x640 3 cars, 13.8ms\n",
            "video 1/1 (frame 91/716) /content/data.mp4: 384x640 2 cars, 11.8ms\n",
            "video 1/1 (frame 92/716) /content/data.mp4: 384x640 2 cars, 11.7ms\n",
            "video 1/1 (frame 93/716) /content/data.mp4: 384x640 3 cars, 10.8ms\n",
            "video 1/1 (frame 94/716) /content/data.mp4: 384x640 3 cars, 10.8ms\n",
            "video 1/1 (frame 95/716) /content/data.mp4: 384x640 6 cars, 10.8ms\n",
            "video 1/1 (frame 96/716) /content/data.mp4: 384x640 6 cars, 10.8ms\n",
            "video 1/1 (frame 97/716) /content/data.mp4: 384x640 5 cars, 10.9ms\n",
            "video 1/1 (frame 98/716) /content/data.mp4: 384x640 6 cars, 13.4ms\n",
            "video 1/1 (frame 99/716) /content/data.mp4: 384x640 7 cars, 10.8ms\n",
            "video 1/1 (frame 100/716) /content/data.mp4: 384x640 5 cars, 10.8ms\n",
            "video 1/1 (frame 101/716) /content/data.mp4: 384x640 6 cars, 10.8ms\n",
            "video 1/1 (frame 102/716) /content/data.mp4: 384x640 7 cars, 10.8ms\n",
            "video 1/1 (frame 103/716) /content/data.mp4: 384x640 6 cars, 10.8ms\n",
            "video 1/1 (frame 104/716) /content/data.mp4: 384x640 6 cars, 10.8ms\n",
            "video 1/1 (frame 105/716) /content/data.mp4: 384x640 5 cars, 10.8ms\n",
            "video 1/1 (frame 106/716) /content/data.mp4: 384x640 6 cars, 10.8ms\n",
            "video 1/1 (frame 107/716) /content/data.mp4: 384x640 5 cars, 14.6ms\n",
            "video 1/1 (frame 108/716) /content/data.mp4: 384x640 6 cars, 10.8ms\n",
            "video 1/1 (frame 109/716) /content/data.mp4: 384x640 6 cars, 10.9ms\n",
            "video 1/1 (frame 110/716) /content/data.mp4: 384x640 6 cars, 12.5ms\n",
            "video 1/1 (frame 111/716) /content/data.mp4: 384x640 7 cars, 10.8ms\n",
            "video 1/1 (frame 112/716) /content/data.mp4: 384x640 7 cars, 10.8ms\n",
            "video 1/1 (frame 113/716) /content/data.mp4: 384x640 6 cars, 10.8ms\n",
            "video 1/1 (frame 114/716) /content/data.mp4: 384x640 6 cars, 10.8ms\n",
            "video 1/1 (frame 115/716) /content/data.mp4: 384x640 6 cars, 10.8ms\n",
            "video 1/1 (frame 116/716) /content/data.mp4: 384x640 8 cars, 10.8ms\n",
            "video 1/1 (frame 117/716) /content/data.mp4: 384x640 7 cars, 10.8ms\n",
            "video 1/1 (frame 118/716) /content/data.mp4: 384x640 8 cars, 10.8ms\n",
            "video 1/1 (frame 119/716) /content/data.mp4: 384x640 8 cars, 10.8ms\n",
            "video 1/1 (frame 120/716) /content/data.mp4: 384x640 8 cars, 10.8ms\n",
            "video 1/1 (frame 121/716) /content/data.mp4: 384x640 7 cars, 10.8ms\n",
            "video 1/1 (frame 122/716) /content/data.mp4: 384x640 9 cars, 10.8ms\n",
            "video 1/1 (frame 123/716) /content/data.mp4: 384x640 8 cars, 11.4ms\n",
            "video 1/1 (frame 124/716) /content/data.mp4: 384x640 9 cars, 11.1ms\n",
            "video 1/1 (frame 125/716) /content/data.mp4: 384x640 8 cars, 10.8ms\n",
            "video 1/1 (frame 126/716) /content/data.mp4: 384x640 8 cars, 12.0ms\n",
            "video 1/1 (frame 127/716) /content/data.mp4: 384x640 8 cars, 12.8ms\n",
            "video 1/1 (frame 128/716) /content/data.mp4: 384x640 10 cars, 10.8ms\n",
            "video 1/1 (frame 129/716) /content/data.mp4: 384x640 8 cars, 10.8ms\n",
            "video 1/1 (frame 130/716) /content/data.mp4: 384x640 9 cars, 10.8ms\n",
            "video 1/1 (frame 131/716) /content/data.mp4: 384x640 10 cars, 10.8ms\n",
            "video 1/1 (frame 132/716) /content/data.mp4: 384x640 11 cars, 10.8ms\n",
            "video 1/1 (frame 133/716) /content/data.mp4: 384x640 12 cars, 10.8ms\n",
            "video 1/1 (frame 134/716) /content/data.mp4: 384x640 12 cars, 10.9ms\n",
            "video 1/1 (frame 135/716) /content/data.mp4: 384x640 11 cars, 10.7ms\n",
            "video 1/1 (frame 136/716) /content/data.mp4: 384x640 12 cars, 10.8ms\n",
            "video 1/1 (frame 137/716) /content/data.mp4: 384x640 9 cars, 10.8ms\n",
            "video 1/1 (frame 138/716) /content/data.mp4: 384x640 10 cars, 10.9ms\n",
            "video 1/1 (frame 139/716) /content/data.mp4: 384x640 8 cars, 10.8ms\n",
            "video 1/1 (frame 140/716) /content/data.mp4: 384x640 8 cars, 10.8ms\n",
            "video 1/1 (frame 141/716) /content/data.mp4: 384x640 9 cars, 10.8ms\n",
            "video 1/1 (frame 142/716) /content/data.mp4: 384x640 8 cars, 11.2ms\n",
            "video 1/1 (frame 143/716) /content/data.mp4: 384x640 10 cars, 11.0ms\n",
            "video 1/1 (frame 144/716) /content/data.mp4: 384x640 9 cars, 10.8ms\n",
            "video 1/1 (frame 145/716) /content/data.mp4: 384x640 10 cars, 11.9ms\n",
            "video 1/1 (frame 146/716) /content/data.mp4: 384x640 10 cars, 10.8ms\n",
            "video 1/1 (frame 147/716) /content/data.mp4: 384x640 9 cars, 10.8ms\n",
            "video 1/1 (frame 148/716) /content/data.mp4: 384x640 10 cars, 13.1ms\n",
            "video 1/1 (frame 149/716) /content/data.mp4: 384x640 10 cars, 10.8ms\n",
            "video 1/1 (frame 150/716) /content/data.mp4: 384x640 9 cars, 10.8ms\n",
            "video 1/1 (frame 151/716) /content/data.mp4: 384x640 9 cars, 10.8ms\n",
            "video 1/1 (frame 152/716) /content/data.mp4: 384x640 10 cars, 10.8ms\n",
            "video 1/1 (frame 153/716) /content/data.mp4: 384x640 10 cars, 10.8ms\n",
            "video 1/1 (frame 154/716) /content/data.mp4: 384x640 8 cars, 11.0ms\n",
            "video 1/1 (frame 155/716) /content/data.mp4: 384x640 8 cars, 10.8ms\n",
            "video 1/1 (frame 156/716) /content/data.mp4: 384x640 9 cars, 10.8ms\n",
            "video 1/1 (frame 157/716) /content/data.mp4: 384x640 9 cars, 10.8ms\n",
            "video 1/1 (frame 158/716) /content/data.mp4: 384x640 9 cars, 10.8ms\n",
            "video 1/1 (frame 159/716) /content/data.mp4: 384x640 9 cars, 10.8ms\n",
            "video 1/1 (frame 160/716) /content/data.mp4: 384x640 9 cars, 11.6ms\n",
            "video 1/1 (frame 161/716) /content/data.mp4: 384x640 10 cars, 10.8ms\n",
            "video 1/1 (frame 162/716) /content/data.mp4: 384x640 9 cars, 11.9ms\n",
            "video 1/1 (frame 163/716) /content/data.mp4: 384x640 8 cars, 14.5ms\n",
            "video 1/1 (frame 164/716) /content/data.mp4: 384x640 9 cars, 10.8ms\n",
            "video 1/1 (frame 165/716) /content/data.mp4: 384x640 8 cars, 10.8ms\n",
            "video 1/1 (frame 166/716) /content/data.mp4: 384x640 8 cars, 10.8ms\n",
            "video 1/1 (frame 167/716) /content/data.mp4: 384x640 9 cars, 10.8ms\n",
            "video 1/1 (frame 168/716) /content/data.mp4: 384x640 8 cars, 10.8ms\n",
            "video 1/1 (frame 169/716) /content/data.mp4: 384x640 8 cars, 10.8ms\n",
            "video 1/1 (frame 170/716) /content/data.mp4: 384x640 8 cars, 10.8ms\n",
            "video 1/1 (frame 171/716) /content/data.mp4: 384x640 8 cars, 10.8ms\n",
            "video 1/1 (frame 172/716) /content/data.mp4: 384x640 9 cars, 10.8ms\n",
            "video 1/1 (frame 173/716) /content/data.mp4: 384x640 9 cars, 10.8ms\n",
            "video 1/1 (frame 174/716) /content/data.mp4: 384x640 9 cars, 10.8ms\n",
            "video 1/1 (frame 175/716) /content/data.mp4: 384x640 9 cars, 10.8ms\n",
            "video 1/1 (frame 176/716) /content/data.mp4: 384x640 9 cars, 10.8ms\n",
            "video 1/1 (frame 177/716) /content/data.mp4: 384x640 9 cars, 10.8ms\n",
            "video 1/1 (frame 178/716) /content/data.mp4: 384x640 9 cars, 10.8ms\n",
            "video 1/1 (frame 179/716) /content/data.mp4: 384x640 9 cars, 10.8ms\n",
            "video 1/1 (frame 180/716) /content/data.mp4: 384x640 9 cars, 11.2ms\n",
            "video 1/1 (frame 181/716) /content/data.mp4: 384x640 10 cars, 20.9ms\n",
            "video 1/1 (frame 182/716) /content/data.mp4: 384x640 9 cars, 10.8ms\n",
            "video 1/1 (frame 183/716) /content/data.mp4: 384x640 10 cars, 10.8ms\n",
            "video 1/1 (frame 184/716) /content/data.mp4: 384x640 11 cars, 10.8ms\n",
            "video 1/1 (frame 185/716) /content/data.mp4: 384x640 11 cars, 10.8ms\n",
            "video 1/1 (frame 186/716) /content/data.mp4: 384x640 11 cars, 19.0ms\n",
            "video 1/1 (frame 187/716) /content/data.mp4: 384x640 11 cars, 10.8ms\n",
            "video 1/1 (frame 188/716) /content/data.mp4: 384x640 10 cars, 10.8ms\n",
            "video 1/1 (frame 189/716) /content/data.mp4: 384x640 11 cars, 10.8ms\n",
            "video 1/1 (frame 190/716) /content/data.mp4: 384x640 10 cars, 13.8ms\n",
            "video 1/1 (frame 191/716) /content/data.mp4: 384x640 10 cars, 10.8ms\n",
            "video 1/1 (frame 192/716) /content/data.mp4: 384x640 10 cars, 10.8ms\n",
            "video 1/1 (frame 193/716) /content/data.mp4: 384x640 11 cars, 10.8ms\n",
            "video 1/1 (frame 194/716) /content/data.mp4: 384x640 9 cars, 10.8ms\n",
            "video 1/1 (frame 195/716) /content/data.mp4: 384x640 9 cars, 10.9ms\n",
            "video 1/1 (frame 196/716) /content/data.mp4: 384x640 10 cars, 16.9ms\n",
            "video 1/1 (frame 197/716) /content/data.mp4: 384x640 10 cars, 10.7ms\n",
            "video 1/1 (frame 198/716) /content/data.mp4: 384x640 10 cars, 13.4ms\n",
            "video 1/1 (frame 199/716) /content/data.mp4: 384x640 10 cars, 10.8ms\n",
            "video 1/1 (frame 200/716) /content/data.mp4: 384x640 11 cars, 10.8ms\n",
            "video 1/1 (frame 201/716) /content/data.mp4: 384x640 11 cars, 10.8ms\n",
            "video 1/1 (frame 202/716) /content/data.mp4: 384x640 10 cars, 10.8ms\n",
            "video 1/1 (frame 203/716) /content/data.mp4: 384x640 10 cars, 10.8ms\n",
            "video 1/1 (frame 204/716) /content/data.mp4: 384x640 10 cars, 10.8ms\n",
            "video 1/1 (frame 205/716) /content/data.mp4: 384x640 10 cars, 10.9ms\n",
            "video 1/1 (frame 206/716) /content/data.mp4: 384x640 10 cars, 10.8ms\n",
            "video 1/1 (frame 207/716) /content/data.mp4: 384x640 10 cars, 10.8ms\n",
            "video 1/1 (frame 208/716) /content/data.mp4: 384x640 10 cars, 10.8ms\n",
            "video 1/1 (frame 209/716) /content/data.mp4: 384x640 10 cars, 11.1ms\n",
            "video 1/1 (frame 210/716) /content/data.mp4: 384x640 10 cars, 10.8ms\n",
            "video 1/1 (frame 211/716) /content/data.mp4: 384x640 10 cars, 10.9ms\n",
            "video 1/1 (frame 212/716) /content/data.mp4: 384x640 10 cars, 10.8ms\n",
            "video 1/1 (frame 213/716) /content/data.mp4: 384x640 11 cars, 13.5ms\n",
            "video 1/1 (frame 214/716) /content/data.mp4: 384x640 11 cars, 10.8ms\n",
            "video 1/1 (frame 215/716) /content/data.mp4: 384x640 11 cars, 10.8ms\n",
            "video 1/1 (frame 216/716) /content/data.mp4: 384x640 13 cars, 11.2ms\n",
            "video 1/1 (frame 217/716) /content/data.mp4: 384x640 12 cars, 10.8ms\n",
            "video 1/1 (frame 218/716) /content/data.mp4: 384x640 11 cars, 10.8ms\n",
            "video 1/1 (frame 219/716) /content/data.mp4: 384x640 12 cars, 11.3ms\n",
            "video 1/1 (frame 220/716) /content/data.mp4: 384x640 12 cars, 10.8ms\n",
            "video 1/1 (frame 221/716) /content/data.mp4: 384x640 13 cars, 10.8ms\n",
            "video 1/1 (frame 222/716) /content/data.mp4: 384x640 13 cars, 10.8ms\n",
            "video 1/1 (frame 223/716) /content/data.mp4: 384x640 12 cars, 10.8ms\n",
            "video 1/1 (frame 224/716) /content/data.mp4: 384x640 11 cars, 10.8ms\n",
            "video 1/1 (frame 225/716) /content/data.mp4: 384x640 13 cars, 12.2ms\n",
            "video 1/1 (frame 226/716) /content/data.mp4: 384x640 13 cars, 10.8ms\n",
            "video 1/1 (frame 227/716) /content/data.mp4: 384x640 13 cars, 10.8ms\n",
            "video 1/1 (frame 228/716) /content/data.mp4: 384x640 13 cars, 20.3ms\n",
            "video 1/1 (frame 229/716) /content/data.mp4: 384x640 12 cars, 12.8ms\n",
            "video 1/1 (frame 230/716) /content/data.mp4: 384x640 13 cars, 11.4ms\n",
            "video 1/1 (frame 231/716) /content/data.mp4: 384x640 13 cars, 12.1ms\n",
            "video 1/1 (frame 232/716) /content/data.mp4: 384x640 13 cars, 10.8ms\n",
            "video 1/1 (frame 233/716) /content/data.mp4: 384x640 11 cars, 16.5ms\n",
            "video 1/1 (frame 234/716) /content/data.mp4: 384x640 11 cars, 10.8ms\n",
            "video 1/1 (frame 235/716) /content/data.mp4: 384x640 11 cars, 10.8ms\n",
            "video 1/1 (frame 236/716) /content/data.mp4: 384x640 12 cars, 11.1ms\n",
            "video 1/1 (frame 237/716) /content/data.mp4: 384x640 14 cars, 10.8ms\n",
            "video 1/1 (frame 238/716) /content/data.mp4: 384x640 11 cars, 10.8ms\n",
            "video 1/1 (frame 239/716) /content/data.mp4: 384x640 11 cars, 10.8ms\n",
            "video 1/1 (frame 240/716) /content/data.mp4: 384x640 11 cars, 10.9ms\n",
            "video 1/1 (frame 241/716) /content/data.mp4: 384x640 12 cars, 12.7ms\n",
            "video 1/1 (frame 242/716) /content/data.mp4: 384x640 11 cars, 10.8ms\n",
            "video 1/1 (frame 243/716) /content/data.mp4: 384x640 10 cars, 10.8ms\n",
            "video 1/1 (frame 244/716) /content/data.mp4: 384x640 11 cars, 10.8ms\n",
            "video 1/1 (frame 245/716) /content/data.mp4: 384x640 10 cars, 10.9ms\n",
            "video 1/1 (frame 246/716) /content/data.mp4: 384x640 12 cars, 10.9ms\n",
            "video 1/1 (frame 247/716) /content/data.mp4: 384x640 15 cars, 10.8ms\n",
            "video 1/1 (frame 248/716) /content/data.mp4: 384x640 13 cars, 13.6ms\n",
            "video 1/1 (frame 249/716) /content/data.mp4: 384x640 13 cars, 10.8ms\n",
            "video 1/1 (frame 250/716) /content/data.mp4: 384x640 14 cars, 10.8ms\n",
            "video 1/1 (frame 251/716) /content/data.mp4: 384x640 12 cars, 10.8ms\n",
            "video 1/1 (frame 252/716) /content/data.mp4: 384x640 13 cars, 10.9ms\n",
            "video 1/1 (frame 253/716) /content/data.mp4: 384x640 11 cars, 10.8ms\n",
            "video 1/1 (frame 254/716) /content/data.mp4: 384x640 11 cars, 10.8ms\n",
            "video 1/1 (frame 255/716) /content/data.mp4: 384x640 11 cars, 11.2ms\n",
            "video 1/1 (frame 256/716) /content/data.mp4: 384x640 11 cars, 10.8ms\n",
            "video 1/1 (frame 257/716) /content/data.mp4: 384x640 11 cars, 10.8ms\n",
            "video 1/1 (frame 258/716) /content/data.mp4: 384x640 11 cars, 10.8ms\n",
            "video 1/1 (frame 259/716) /content/data.mp4: 384x640 11 cars, 10.8ms\n",
            "video 1/1 (frame 260/716) /content/data.mp4: 384x640 11 cars, 10.8ms\n",
            "video 1/1 (frame 261/716) /content/data.mp4: 384x640 11 cars, 12.7ms\n",
            "video 1/1 (frame 262/716) /content/data.mp4: 384x640 11 cars, 16.1ms\n",
            "video 1/1 (frame 263/716) /content/data.mp4: 384x640 11 cars, 10.8ms\n",
            "video 1/1 (frame 264/716) /content/data.mp4: 384x640 11 cars, 10.9ms\n",
            "video 1/1 (frame 265/716) /content/data.mp4: 384x640 11 cars, 10.8ms\n",
            "video 1/1 (frame 266/716) /content/data.mp4: 384x640 11 cars, 16.0ms\n",
            "video 1/1 (frame 267/716) /content/data.mp4: 384x640 11 cars, 10.8ms\n",
            "video 1/1 (frame 268/716) /content/data.mp4: 384x640 11 cars, 10.8ms\n",
            "video 1/1 (frame 269/716) /content/data.mp4: 384x640 11 cars, 12.0ms\n",
            "video 1/1 (frame 270/716) /content/data.mp4: 384x640 11 cars, 12.8ms\n",
            "video 1/1 (frame 271/716) /content/data.mp4: 384x640 11 cars, 10.8ms\n",
            "video 1/1 (frame 272/716) /content/data.mp4: 384x640 11 cars, 11.3ms\n",
            "video 1/1 (frame 273/716) /content/data.mp4: 384x640 11 cars, 10.8ms\n",
            "video 1/1 (frame 274/716) /content/data.mp4: 384x640 11 cars, 11.4ms\n",
            "video 1/1 (frame 275/716) /content/data.mp4: 384x640 11 cars, 10.8ms\n",
            "video 1/1 (frame 276/716) /content/data.mp4: 384x640 11 cars, 13.9ms\n",
            "video 1/1 (frame 277/716) /content/data.mp4: 384x640 11 cars, 10.9ms\n",
            "video 1/1 (frame 278/716) /content/data.mp4: 384x640 10 cars, 10.9ms\n",
            "video 1/1 (frame 279/716) /content/data.mp4: 384x640 11 cars, 13.2ms\n",
            "video 1/1 (frame 280/716) /content/data.mp4: 384x640 10 cars, 13.1ms\n",
            "video 1/1 (frame 281/716) /content/data.mp4: 384x640 10 cars, 13.2ms\n",
            "video 1/1 (frame 282/716) /content/data.mp4: 384x640 10 cars, 10.8ms\n",
            "video 1/1 (frame 283/716) /content/data.mp4: 384x640 10 cars, 12.4ms\n",
            "video 1/1 (frame 284/716) /content/data.mp4: 384x640 10 cars, 19.0ms\n",
            "video 1/1 (frame 285/716) /content/data.mp4: 384x640 11 cars, 15.3ms\n",
            "video 1/1 (frame 286/716) /content/data.mp4: 384x640 10 cars, 10.8ms\n",
            "video 1/1 (frame 287/716) /content/data.mp4: 384x640 10 cars, 12.8ms\n",
            "video 1/1 (frame 288/716) /content/data.mp4: 384x640 10 cars, 12.8ms\n",
            "video 1/1 (frame 289/716) /content/data.mp4: 384x640 10 cars, 11.9ms\n",
            "video 1/1 (frame 290/716) /content/data.mp4: 384x640 10 cars, 10.8ms\n",
            "video 1/1 (frame 291/716) /content/data.mp4: 384x640 10 cars, 12.7ms\n",
            "video 1/1 (frame 292/716) /content/data.mp4: 384x640 10 cars, 16.9ms\n",
            "video 1/1 (frame 293/716) /content/data.mp4: 384x640 8 cars, 10.8ms\n",
            "video 1/1 (frame 294/716) /content/data.mp4: 384x640 8 cars, 13.4ms\n",
            "video 1/1 (frame 295/716) /content/data.mp4: 384x640 8 cars, 16.2ms\n",
            "video 1/1 (frame 296/716) /content/data.mp4: 384x640 8 cars, 14.9ms\n",
            "video 1/1 (frame 297/716) /content/data.mp4: 384x640 8 cars, 10.8ms\n",
            "video 1/1 (frame 298/716) /content/data.mp4: 384x640 10 cars, 13.7ms\n",
            "video 1/1 (frame 299/716) /content/data.mp4: 384x640 9 cars, 13.2ms\n",
            "video 1/1 (frame 300/716) /content/data.mp4: 384x640 11 cars, 24.2ms\n",
            "video 1/1 (frame 301/716) /content/data.mp4: 384x640 11 cars, 23.2ms\n",
            "video 1/1 (frame 302/716) /content/data.mp4: 384x640 10 cars, 15.9ms\n",
            "video 1/1 (frame 303/716) /content/data.mp4: 384x640 11 cars, 12.3ms\n",
            "video 1/1 (frame 304/716) /content/data.mp4: 384x640 12 cars, 12.8ms\n",
            "video 1/1 (frame 305/716) /content/data.mp4: 384x640 11 cars, 10.8ms\n",
            "video 1/1 (frame 306/716) /content/data.mp4: 384x640 12 cars, 10.8ms\n",
            "video 1/1 (frame 307/716) /content/data.mp4: 384x640 12 cars, 10.8ms\n",
            "video 1/1 (frame 308/716) /content/data.mp4: 384x640 12 cars, 15.2ms\n",
            "video 1/1 (frame 309/716) /content/data.mp4: 384x640 12 cars, 11.9ms\n",
            "video 1/1 (frame 310/716) /content/data.mp4: 384x640 11 cars, 15.8ms\n",
            "video 1/1 (frame 311/716) /content/data.mp4: 384x640 12 cars, 10.8ms\n",
            "video 1/1 (frame 312/716) /content/data.mp4: 384x640 13 cars, 10.9ms\n",
            "video 1/1 (frame 313/716) /content/data.mp4: 384x640 12 cars, 21.5ms\n",
            "video 1/1 (frame 314/716) /content/data.mp4: 384x640 11 cars, 12.3ms\n",
            "video 1/1 (frame 315/716) /content/data.mp4: 384x640 12 cars, 11.2ms\n",
            "video 1/1 (frame 316/716) /content/data.mp4: 384x640 11 cars, 10.8ms\n",
            "video 1/1 (frame 317/716) /content/data.mp4: 384x640 11 cars, 10.8ms\n",
            "video 1/1 (frame 318/716) /content/data.mp4: 384x640 11 cars, 11.7ms\n",
            "video 1/1 (frame 319/716) /content/data.mp4: 384x640 10 cars, 17.1ms\n",
            "video 1/1 (frame 320/716) /content/data.mp4: 384x640 11 cars, 12.8ms\n",
            "video 1/1 (frame 321/716) /content/data.mp4: 384x640 10 cars, 15.4ms\n",
            "video 1/1 (frame 322/716) /content/data.mp4: 384x640 10 cars, 24.0ms\n",
            "video 1/1 (frame 323/716) /content/data.mp4: 384x640 10 cars, 10.8ms\n",
            "video 1/1 (frame 324/716) /content/data.mp4: 384x640 10 cars, 10.8ms\n",
            "video 1/1 (frame 325/716) /content/data.mp4: 384x640 10 cars, 10.8ms\n",
            "video 1/1 (frame 326/716) /content/data.mp4: 384x640 11 cars, 11.3ms\n",
            "video 1/1 (frame 327/716) /content/data.mp4: 384x640 11 cars, 10.8ms\n",
            "video 1/1 (frame 328/716) /content/data.mp4: 384x640 11 cars, 10.8ms\n",
            "video 1/1 (frame 329/716) /content/data.mp4: 384x640 12 cars, 14.2ms\n",
            "video 1/1 (frame 330/716) /content/data.mp4: 384x640 11 cars, 10.9ms\n",
            "video 1/1 (frame 331/716) /content/data.mp4: 384x640 11 cars, 10.8ms\n",
            "video 1/1 (frame 332/716) /content/data.mp4: 384x640 10 cars, 10.8ms\n",
            "video 1/1 (frame 333/716) /content/data.mp4: 384x640 10 cars, 10.9ms\n",
            "video 1/1 (frame 334/716) /content/data.mp4: 384x640 10 cars, 11.8ms\n",
            "video 1/1 (frame 335/716) /content/data.mp4: 384x640 10 cars, 11.3ms\n",
            "video 1/1 (frame 336/716) /content/data.mp4: 384x640 10 cars, 10.9ms\n",
            "video 1/1 (frame 337/716) /content/data.mp4: 384x640 11 cars, 11.7ms\n",
            "video 1/1 (frame 338/716) /content/data.mp4: 384x640 11 cars, 10.9ms\n",
            "video 1/1 (frame 339/716) /content/data.mp4: 384x640 12 cars, 17.5ms\n",
            "video 1/1 (frame 340/716) /content/data.mp4: 384x640 11 cars, 12.4ms\n",
            "video 1/1 (frame 341/716) /content/data.mp4: 384x640 11 cars, 11.5ms\n",
            "video 1/1 (frame 342/716) /content/data.mp4: 384x640 11 cars, 12.4ms\n",
            "video 1/1 (frame 343/716) /content/data.mp4: 384x640 10 cars, 10.9ms\n",
            "video 1/1 (frame 344/716) /content/data.mp4: 384x640 10 cars, 10.8ms\n",
            "video 1/1 (frame 345/716) /content/data.mp4: 384x640 9 cars, 11.1ms\n",
            "video 1/1 (frame 346/716) /content/data.mp4: 384x640 10 cars, 10.8ms\n",
            "video 1/1 (frame 347/716) /content/data.mp4: 384x640 11 cars, 11.1ms\n",
            "video 1/1 (frame 348/716) /content/data.mp4: 384x640 10 cars, 12.1ms\n",
            "video 1/1 (frame 349/716) /content/data.mp4: 384x640 10 cars, 11.9ms\n",
            "video 1/1 (frame 350/716) /content/data.mp4: 384x640 11 cars, 12.2ms\n",
            "video 1/1 (frame 351/716) /content/data.mp4: 384x640 8 cars, 17.1ms\n",
            "video 1/1 (frame 352/716) /content/data.mp4: 384x640 9 cars, 10.8ms\n",
            "video 1/1 (frame 353/716) /content/data.mp4: 384x640 11 cars, 11.8ms\n",
            "video 1/1 (frame 354/716) /content/data.mp4: 384x640 10 cars, 10.8ms\n",
            "video 1/1 (frame 355/716) /content/data.mp4: 384x640 11 cars, 13.8ms\n",
            "video 1/1 (frame 356/716) /content/data.mp4: 384x640 12 cars, 10.8ms\n",
            "video 1/1 (frame 357/716) /content/data.mp4: 384x640 12 cars, 12.5ms\n",
            "video 1/1 (frame 358/716) /content/data.mp4: 384x640 12 cars, 12.7ms\n",
            "video 1/1 (frame 359/716) /content/data.mp4: 384x640 12 cars, 14.3ms\n",
            "video 1/1 (frame 360/716) /content/data.mp4: 384x640 12 cars, 11.0ms\n",
            "video 1/1 (frame 361/716) /content/data.mp4: 384x640 12 cars, 22.3ms\n",
            "video 1/1 (frame 362/716) /content/data.mp4: 384x640 12 cars, 10.8ms\n",
            "video 1/1 (frame 363/716) /content/data.mp4: 384x640 11 cars, 10.8ms\n",
            "video 1/1 (frame 364/716) /content/data.mp4: 384x640 11 cars, 10.8ms\n",
            "video 1/1 (frame 365/716) /content/data.mp4: 384x640 11 cars, 10.8ms\n",
            "video 1/1 (frame 366/716) /content/data.mp4: 384x640 11 cars, 11.4ms\n",
            "video 1/1 (frame 367/716) /content/data.mp4: 384x640 11 cars, 10.8ms\n",
            "video 1/1 (frame 368/716) /content/data.mp4: 384x640 11 cars, 11.1ms\n",
            "video 1/1 (frame 369/716) /content/data.mp4: 384x640 11 cars, 10.8ms\n",
            "video 1/1 (frame 370/716) /content/data.mp4: 384x640 11 cars, 10.8ms\n",
            "video 1/1 (frame 371/716) /content/data.mp4: 384x640 11 cars, 10.9ms\n",
            "video 1/1 (frame 372/716) /content/data.mp4: 384x640 12 cars, 12.2ms\n",
            "video 1/1 (frame 373/716) /content/data.mp4: 384x640 12 cars, 12.4ms\n",
            "video 1/1 (frame 374/716) /content/data.mp4: 384x640 11 cars, 12.0ms\n",
            "video 1/1 (frame 375/716) /content/data.mp4: 384x640 11 cars, 12.1ms\n",
            "video 1/1 (frame 376/716) /content/data.mp4: 384x640 11 cars, 10.8ms\n",
            "video 1/1 (frame 377/716) /content/data.mp4: 384x640 11 cars, 10.8ms\n",
            "video 1/1 (frame 378/716) /content/data.mp4: 384x640 11 cars, 10.8ms\n",
            "video 1/1 (frame 379/716) /content/data.mp4: 384x640 12 cars, 10.8ms\n",
            "video 1/1 (frame 380/716) /content/data.mp4: 384x640 11 cars, 10.8ms\n",
            "video 1/1 (frame 381/716) /content/data.mp4: 384x640 10 cars, 10.8ms\n",
            "video 1/1 (frame 382/716) /content/data.mp4: 384x640 10 cars, 10.8ms\n",
            "video 1/1 (frame 383/716) /content/data.mp4: 384x640 12 cars, 10.8ms\n",
            "video 1/1 (frame 384/716) /content/data.mp4: 384x640 11 cars, 11.2ms\n",
            "video 1/1 (frame 385/716) /content/data.mp4: 384x640 11 cars, 10.8ms\n",
            "video 1/1 (frame 386/716) /content/data.mp4: 384x640 11 cars, 10.8ms\n",
            "video 1/1 (frame 387/716) /content/data.mp4: 384x640 13 cars, 10.8ms\n",
            "video 1/1 (frame 388/716) /content/data.mp4: 384x640 12 cars, 10.8ms\n",
            "video 1/1 (frame 389/716) /content/data.mp4: 384x640 13 cars, 10.8ms\n",
            "video 1/1 (frame 390/716) /content/data.mp4: 384x640 13 cars, 11.1ms\n",
            "video 1/1 (frame 391/716) /content/data.mp4: 384x640 15 cars, 10.8ms\n",
            "video 1/1 (frame 392/716) /content/data.mp4: 384x640 14 cars, 10.8ms\n",
            "video 1/1 (frame 393/716) /content/data.mp4: 384x640 13 cars, 10.8ms\n",
            "video 1/1 (frame 394/716) /content/data.mp4: 384x640 14 cars, 10.8ms\n",
            "video 1/1 (frame 395/716) /content/data.mp4: 384x640 14 cars, 10.8ms\n",
            "video 1/1 (frame 396/716) /content/data.mp4: 384x640 16 cars, 12.3ms\n",
            "video 1/1 (frame 397/716) /content/data.mp4: 384x640 18 cars, 11.1ms\n",
            "video 1/1 (frame 398/716) /content/data.mp4: 384x640 19 cars, 10.8ms\n",
            "video 1/1 (frame 399/716) /content/data.mp4: 384x640 20 cars, 10.9ms\n",
            "video 1/1 (frame 400/716) /content/data.mp4: 384x640 19 cars, 13.6ms\n",
            "video 1/1 (frame 401/716) /content/data.mp4: 384x640 22 cars, 11.0ms\n",
            "video 1/1 (frame 402/716) /content/data.mp4: 384x640 21 cars, 10.8ms\n",
            "video 1/1 (frame 403/716) /content/data.mp4: 384x640 21 cars, 10.8ms\n",
            "video 1/1 (frame 404/716) /content/data.mp4: 384x640 20 cars, 10.8ms\n",
            "video 1/1 (frame 405/716) /content/data.mp4: 384x640 22 cars, 11.1ms\n",
            "video 1/1 (frame 406/716) /content/data.mp4: 384x640 20 cars, 10.9ms\n",
            "video 1/1 (frame 407/716) /content/data.mp4: 384x640 22 cars, 10.8ms\n",
            "video 1/1 (frame 408/716) /content/data.mp4: 384x640 19 cars, 10.8ms\n",
            "video 1/1 (frame 409/716) /content/data.mp4: 384x640 19 cars, 10.8ms\n",
            "video 1/1 (frame 410/716) /content/data.mp4: 384x640 20 cars, 10.8ms\n",
            "video 1/1 (frame 411/716) /content/data.mp4: 384x640 19 cars, 10.8ms\n",
            "video 1/1 (frame 412/716) /content/data.mp4: 384x640 21 cars, 10.8ms\n",
            "video 1/1 (frame 413/716) /content/data.mp4: 384x640 22 cars, 10.8ms\n",
            "video 1/1 (frame 414/716) /content/data.mp4: 384x640 25 cars, 10.8ms\n",
            "video 1/1 (frame 415/716) /content/data.mp4: 384x640 21 cars, 10.8ms\n",
            "video 1/1 (frame 416/716) /content/data.mp4: 384x640 27 cars, 11.3ms\n",
            "video 1/1 (frame 417/716) /content/data.mp4: 384x640 20 cars, 10.8ms\n",
            "video 1/1 (frame 418/716) /content/data.mp4: 384x640 24 cars, 10.8ms\n",
            "video 1/1 (frame 419/716) /content/data.mp4: 384x640 24 cars, 10.8ms\n",
            "video 1/1 (frame 420/716) /content/data.mp4: 384x640 21 cars, 10.8ms\n",
            "video 1/1 (frame 421/716) /content/data.mp4: 384x640 22 cars, 10.9ms\n",
            "video 1/1 (frame 422/716) /content/data.mp4: 384x640 22 cars, 14.9ms\n",
            "video 1/1 (frame 423/716) /content/data.mp4: 384x640 26 cars, 11.1ms\n",
            "video 1/1 (frame 424/716) /content/data.mp4: 384x640 23 cars, 10.8ms\n",
            "video 1/1 (frame 425/716) /content/data.mp4: 384x640 24 cars, 11.1ms\n",
            "video 1/1 (frame 426/716) /content/data.mp4: 384x640 21 cars, 10.9ms\n",
            "video 1/1 (frame 427/716) /content/data.mp4: 384x640 23 cars, 10.8ms\n",
            "video 1/1 (frame 428/716) /content/data.mp4: 384x640 21 cars, 10.8ms\n",
            "video 1/1 (frame 429/716) /content/data.mp4: 384x640 22 cars, 10.8ms\n",
            "video 1/1 (frame 430/716) /content/data.mp4: 384x640 24 cars, 11.5ms\n",
            "video 1/1 (frame 431/716) /content/data.mp4: 384x640 23 cars, 12.1ms\n",
            "video 1/1 (frame 432/716) /content/data.mp4: 384x640 23 cars, 10.8ms\n",
            "video 1/1 (frame 433/716) /content/data.mp4: 384x640 23 cars, 10.8ms\n",
            "video 1/1 (frame 434/716) /content/data.mp4: 384x640 23 cars, 10.8ms\n",
            "video 1/1 (frame 435/716) /content/data.mp4: 384x640 21 cars, 10.8ms\n",
            "video 1/1 (frame 436/716) /content/data.mp4: 384x640 22 cars, 10.8ms\n",
            "video 1/1 (frame 437/716) /content/data.mp4: 384x640 21 cars, 10.8ms\n",
            "video 1/1 (frame 438/716) /content/data.mp4: 384x640 21 cars, 10.8ms\n",
            "video 1/1 (frame 439/716) /content/data.mp4: 384x640 22 cars, 10.9ms\n",
            "video 1/1 (frame 440/716) /content/data.mp4: 384x640 23 cars, 11.5ms\n",
            "video 1/1 (frame 441/716) /content/data.mp4: 384x640 22 cars, 11.2ms\n",
            "video 1/1 (frame 442/716) /content/data.mp4: 384x640 23 cars, 10.8ms\n",
            "video 1/1 (frame 443/716) /content/data.mp4: 384x640 22 cars, 10.9ms\n",
            "video 1/1 (frame 444/716) /content/data.mp4: 384x640 21 cars, 10.8ms\n",
            "video 1/1 (frame 445/716) /content/data.mp4: 384x640 21 cars, 10.8ms\n",
            "video 1/1 (frame 446/716) /content/data.mp4: 384x640 22 cars, 10.8ms\n",
            "video 1/1 (frame 447/716) /content/data.mp4: 384x640 23 cars, 10.8ms\n",
            "video 1/1 (frame 448/716) /content/data.mp4: 384x640 22 cars, 11.0ms\n",
            "video 1/1 (frame 449/716) /content/data.mp4: 384x640 22 cars, 16.6ms\n",
            "video 1/1 (frame 450/716) /content/data.mp4: 384x640 20 cars, 10.8ms\n",
            "video 1/1 (frame 451/716) /content/data.mp4: 384x640 23 cars, 11.3ms\n",
            "video 1/1 (frame 452/716) /content/data.mp4: 384x640 24 cars, 11.9ms\n",
            "video 1/1 (frame 453/716) /content/data.mp4: 384x640 22 cars, 10.8ms\n",
            "video 1/1 (frame 454/716) /content/data.mp4: 384x640 22 cars, 15.2ms\n",
            "video 1/1 (frame 455/716) /content/data.mp4: 384x640 22 cars, 10.8ms\n",
            "video 1/1 (frame 456/716) /content/data.mp4: 384x640 23 cars, 11.3ms\n",
            "video 1/1 (frame 457/716) /content/data.mp4: 384x640 22 cars, 10.9ms\n",
            "video 1/1 (frame 458/716) /content/data.mp4: 384x640 24 cars, 11.3ms\n",
            "video 1/1 (frame 459/716) /content/data.mp4: 384x640 19 cars, 11.3ms\n",
            "video 1/1 (frame 460/716) /content/data.mp4: 384x640 21 cars, 11.1ms\n",
            "video 1/1 (frame 461/716) /content/data.mp4: 384x640 21 cars, 10.9ms\n",
            "video 1/1 (frame 462/716) /content/data.mp4: 384x640 21 cars, 12.8ms\n",
            "video 1/1 (frame 463/716) /content/data.mp4: 384x640 24 cars, 10.8ms\n",
            "video 1/1 (frame 464/716) /content/data.mp4: 384x640 24 cars, 10.8ms\n",
            "video 1/1 (frame 465/716) /content/data.mp4: 384x640 23 cars, 13.4ms\n",
            "video 1/1 (frame 466/716) /content/data.mp4: 384x640 22 cars, 13.4ms\n",
            "video 1/1 (frame 467/716) /content/data.mp4: 384x640 21 cars, 10.8ms\n",
            "video 1/1 (frame 468/716) /content/data.mp4: 384x640 22 cars, 10.8ms\n",
            "video 1/1 (frame 469/716) /content/data.mp4: 384x640 20 cars, 11.1ms\n",
            "video 1/1 (frame 470/716) /content/data.mp4: 384x640 23 cars, 10.8ms\n",
            "video 1/1 (frame 471/716) /content/data.mp4: 384x640 22 cars, 10.8ms\n",
            "video 1/1 (frame 472/716) /content/data.mp4: 384x640 22 cars, 10.8ms\n",
            "video 1/1 (frame 473/716) /content/data.mp4: 384x640 23 cars, 10.8ms\n",
            "video 1/1 (frame 474/716) /content/data.mp4: 384x640 24 cars, 10.8ms\n",
            "video 1/1 (frame 475/716) /content/data.mp4: 384x640 24 cars, 11.8ms\n",
            "video 1/1 (frame 476/716) /content/data.mp4: 384x640 23 cars, 10.8ms\n",
            "video 1/1 (frame 477/716) /content/data.mp4: 384x640 22 cars, 10.8ms\n",
            "video 1/1 (frame 478/716) /content/data.mp4: 384x640 21 cars, 10.8ms\n",
            "video 1/1 (frame 479/716) /content/data.mp4: 384x640 21 cars, 13.4ms\n",
            "video 1/1 (frame 480/716) /content/data.mp4: 384x640 22 cars, 10.8ms\n",
            "video 1/1 (frame 481/716) /content/data.mp4: 384x640 22 cars, 10.8ms\n",
            "video 1/1 (frame 482/716) /content/data.mp4: 384x640 22 cars, 11.1ms\n",
            "video 1/1 (frame 483/716) /content/data.mp4: 384x640 24 cars, 10.8ms\n",
            "video 1/1 (frame 484/716) /content/data.mp4: 384x640 25 cars, 10.9ms\n",
            "video 1/1 (frame 485/716) /content/data.mp4: 384x640 23 cars, 10.8ms\n",
            "video 1/1 (frame 486/716) /content/data.mp4: 384x640 22 cars, 11.0ms\n",
            "video 1/1 (frame 487/716) /content/data.mp4: 384x640 22 cars, 11.6ms\n",
            "video 1/1 (frame 488/716) /content/data.mp4: 384x640 23 cars, 11.8ms\n",
            "video 1/1 (frame 489/716) /content/data.mp4: 384x640 24 cars, 10.9ms\n",
            "video 1/1 (frame 490/716) /content/data.mp4: 384x640 24 cars, 10.8ms\n",
            "video 1/1 (frame 491/716) /content/data.mp4: 384x640 24 cars, 10.9ms\n",
            "video 1/1 (frame 492/716) /content/data.mp4: 384x640 21 cars, 10.8ms\n",
            "video 1/1 (frame 493/716) /content/data.mp4: 384x640 21 cars, 10.8ms\n",
            "video 1/1 (frame 494/716) /content/data.mp4: 384x640 21 cars, 10.9ms\n",
            "video 1/1 (frame 495/716) /content/data.mp4: 384x640 23 cars, 10.9ms\n",
            "video 1/1 (frame 496/716) /content/data.mp4: 384x640 23 cars, 10.9ms\n",
            "video 1/1 (frame 497/716) /content/data.mp4: 384x640 23 cars, 10.8ms\n",
            "video 1/1 (frame 498/716) /content/data.mp4: 384x640 23 cars, 10.8ms\n",
            "video 1/1 (frame 499/716) /content/data.mp4: 384x640 21 cars, 10.8ms\n",
            "video 1/1 (frame 500/716) /content/data.mp4: 384x640 23 cars, 10.8ms\n",
            "video 1/1 (frame 501/716) /content/data.mp4: 384x640 21 cars, 10.9ms\n",
            "video 1/1 (frame 502/716) /content/data.mp4: 384x640 22 cars, 10.8ms\n",
            "video 1/1 (frame 503/716) /content/data.mp4: 384x640 22 cars, 10.8ms\n",
            "video 1/1 (frame 504/716) /content/data.mp4: 384x640 23 cars, 10.9ms\n",
            "video 1/1 (frame 505/716) /content/data.mp4: 384x640 22 cars, 10.8ms\n",
            "video 1/1 (frame 506/716) /content/data.mp4: 384x640 21 cars, 10.8ms\n",
            "video 1/1 (frame 507/716) /content/data.mp4: 384x640 21 cars, 10.8ms\n",
            "video 1/1 (frame 508/716) /content/data.mp4: 384x640 22 cars, 10.8ms\n",
            "video 1/1 (frame 509/716) /content/data.mp4: 384x640 22 cars, 12.2ms\n",
            "video 1/1 (frame 510/716) /content/data.mp4: 384x640 23 cars, 12.0ms\n",
            "video 1/1 (frame 511/716) /content/data.mp4: 384x640 21 cars, 12.2ms\n",
            "video 1/1 (frame 512/716) /content/data.mp4: 384x640 24 cars, 11.3ms\n",
            "video 1/1 (frame 513/716) /content/data.mp4: 384x640 24 cars, 11.5ms\n",
            "video 1/1 (frame 514/716) /content/data.mp4: 384x640 23 cars, 14.0ms\n",
            "video 1/1 (frame 515/716) /content/data.mp4: 384x640 25 cars, 10.8ms\n",
            "video 1/1 (frame 516/716) /content/data.mp4: 384x640 23 cars, 10.8ms\n",
            "video 1/1 (frame 517/716) /content/data.mp4: 384x640 22 cars, 10.8ms\n",
            "video 1/1 (frame 518/716) /content/data.mp4: 384x640 21 cars, 10.8ms\n",
            "video 1/1 (frame 519/716) /content/data.mp4: 384x640 22 cars, 11.0ms\n",
            "video 1/1 (frame 520/716) /content/data.mp4: 384x640 24 cars, 10.9ms\n",
            "video 1/1 (frame 521/716) /content/data.mp4: 384x640 22 cars, 10.8ms\n",
            "video 1/1 (frame 522/716) /content/data.mp4: 384x640 24 cars, 10.9ms\n",
            "video 1/1 (frame 523/716) /content/data.mp4: 384x640 25 cars, 10.8ms\n",
            "video 1/1 (frame 524/716) /content/data.mp4: 384x640 24 cars, 10.8ms\n",
            "video 1/1 (frame 525/716) /content/data.mp4: 384x640 24 cars, 10.8ms\n",
            "video 1/1 (frame 526/716) /content/data.mp4: 384x640 23 cars, 10.9ms\n",
            "video 1/1 (frame 527/716) /content/data.mp4: 384x640 25 cars, 10.8ms\n",
            "video 1/1 (frame 528/716) /content/data.mp4: 384x640 25 cars, 10.8ms\n",
            "video 1/1 (frame 529/716) /content/data.mp4: 384x640 24 cars, 10.8ms\n",
            "video 1/1 (frame 530/716) /content/data.mp4: 384x640 23 cars, 10.8ms\n",
            "video 1/1 (frame 531/716) /content/data.mp4: 384x640 24 cars, 10.8ms\n",
            "video 1/1 (frame 532/716) /content/data.mp4: 384x640 22 cars, 10.8ms\n",
            "video 1/1 (frame 533/716) /content/data.mp4: 384x640 22 cars, 10.8ms\n",
            "video 1/1 (frame 534/716) /content/data.mp4: 384x640 23 cars, 10.9ms\n",
            "video 1/1 (frame 535/716) /content/data.mp4: 384x640 24 cars, 18.0ms\n",
            "video 1/1 (frame 536/716) /content/data.mp4: 384x640 25 cars, 10.8ms\n",
            "video 1/1 (frame 537/716) /content/data.mp4: 384x640 25 cars, 11.2ms\n",
            "video 1/1 (frame 538/716) /content/data.mp4: 384x640 25 cars, 11.1ms\n",
            "video 1/1 (frame 539/716) /content/data.mp4: 384x640 26 cars, 16.9ms\n",
            "video 1/1 (frame 540/716) /content/data.mp4: 384x640 26 cars, 12.7ms\n",
            "video 1/1 (frame 541/716) /content/data.mp4: 384x640 24 cars, 20.5ms\n",
            "video 1/1 (frame 542/716) /content/data.mp4: 384x640 25 cars, 10.8ms\n",
            "video 1/1 (frame 543/716) /content/data.mp4: 384x640 23 cars, 10.8ms\n",
            "video 1/1 (frame 544/716) /content/data.mp4: 384x640 25 cars, 10.8ms\n",
            "video 1/1 (frame 545/716) /content/data.mp4: 384x640 21 cars, 13.9ms\n",
            "video 1/1 (frame 546/716) /content/data.mp4: 384x640 21 cars, 10.9ms\n",
            "video 1/1 (frame 547/716) /content/data.mp4: 384x640 24 cars, 10.8ms\n",
            "video 1/1 (frame 548/716) /content/data.mp4: 384x640 21 cars, 11.3ms\n",
            "video 1/1 (frame 549/716) /content/data.mp4: 384x640 20 cars, 10.8ms\n",
            "video 1/1 (frame 550/716) /content/data.mp4: 384x640 23 cars, 23.3ms\n",
            "video 1/1 (frame 551/716) /content/data.mp4: 384x640 23 cars, 11.6ms\n",
            "video 1/1 (frame 552/716) /content/data.mp4: 384x640 22 cars, 12.9ms\n",
            "video 1/1 (frame 553/716) /content/data.mp4: 384x640 21 cars, 12.0ms\n",
            "video 1/1 (frame 554/716) /content/data.mp4: 384x640 23 cars, 12.3ms\n",
            "video 1/1 (frame 555/716) /content/data.mp4: 384x640 23 cars, 12.1ms\n",
            "video 1/1 (frame 556/716) /content/data.mp4: 384x640 25 cars, 10.8ms\n",
            "video 1/1 (frame 557/716) /content/data.mp4: 384x640 24 cars, 10.8ms\n",
            "video 1/1 (frame 558/716) /content/data.mp4: 384x640 22 cars, 12.0ms\n",
            "video 1/1 (frame 559/716) /content/data.mp4: 384x640 23 cars, 10.8ms\n",
            "video 1/1 (frame 560/716) /content/data.mp4: 384x640 21 cars, 11.8ms\n",
            "video 1/1 (frame 561/716) /content/data.mp4: 384x640 21 cars, 16.3ms\n",
            "video 1/1 (frame 562/716) /content/data.mp4: 384x640 20 cars, 14.8ms\n",
            "video 1/1 (frame 563/716) /content/data.mp4: 384x640 22 cars, 10.8ms\n",
            "video 1/1 (frame 564/716) /content/data.mp4: 384x640 22 cars, 13.7ms\n",
            "video 1/1 (frame 565/716) /content/data.mp4: 384x640 21 cars, 10.9ms\n",
            "video 1/1 (frame 566/716) /content/data.mp4: 384x640 20 cars, 11.8ms\n",
            "video 1/1 (frame 567/716) /content/data.mp4: 384x640 23 cars, 10.8ms\n",
            "video 1/1 (frame 568/716) /content/data.mp4: 384x640 22 cars, 11.9ms\n",
            "video 1/1 (frame 569/716) /content/data.mp4: 384x640 22 cars, 11.4ms\n",
            "video 1/1 (frame 570/716) /content/data.mp4: 384x640 23 cars, 13.8ms\n",
            "video 1/1 (frame 571/716) /content/data.mp4: 384x640 23 cars, 10.8ms\n",
            "video 1/1 (frame 572/716) /content/data.mp4: 384x640 23 cars, 13.1ms\n",
            "video 1/1 (frame 573/716) /content/data.mp4: 384x640 24 cars, 13.8ms\n",
            "video 1/1 (frame 574/716) /content/data.mp4: 384x640 23 cars, 13.0ms\n",
            "video 1/1 (frame 575/716) /content/data.mp4: 384x640 23 cars, 15.7ms\n",
            "video 1/1 (frame 576/716) /content/data.mp4: 384x640 23 cars, 11.1ms\n",
            "video 1/1 (frame 577/716) /content/data.mp4: 384x640 23 cars, 12.3ms\n",
            "video 1/1 (frame 578/716) /content/data.mp4: 384x640 24 cars, 12.6ms\n",
            "video 1/1 (frame 579/716) /content/data.mp4: 384x640 22 cars, 12.2ms\n",
            "video 1/1 (frame 580/716) /content/data.mp4: 384x640 22 cars, 10.8ms\n",
            "video 1/1 (frame 581/716) /content/data.mp4: 384x640 24 cars, 11.5ms\n",
            "video 1/1 (frame 582/716) /content/data.mp4: 384x640 24 cars, 14.1ms\n",
            "video 1/1 (frame 583/716) /content/data.mp4: 384x640 24 cars, 11.1ms\n",
            "video 1/1 (frame 584/716) /content/data.mp4: 384x640 23 cars, 14.2ms\n",
            "video 1/1 (frame 585/716) /content/data.mp4: 384x640 23 cars, 13.5ms\n",
            "video 1/1 (frame 586/716) /content/data.mp4: 384x640 22 cars, 13.2ms\n",
            "video 1/1 (frame 587/716) /content/data.mp4: 384x640 23 cars, 13.4ms\n",
            "video 1/1 (frame 588/716) /content/data.mp4: 384x640 25 cars, 11.8ms\n",
            "video 1/1 (frame 589/716) /content/data.mp4: 384x640 28 cars, 10.8ms\n",
            "video 1/1 (frame 590/716) /content/data.mp4: 384x640 23 cars, 12.3ms\n",
            "video 1/1 (frame 591/716) /content/data.mp4: 384x640 23 cars, 12.3ms\n",
            "video 1/1 (frame 592/716) /content/data.mp4: 384x640 23 cars, 10.8ms\n",
            "video 1/1 (frame 593/716) /content/data.mp4: 384x640 21 cars, 17.2ms\n",
            "video 1/1 (frame 594/716) /content/data.mp4: 384x640 22 cars, 10.8ms\n",
            "video 1/1 (frame 595/716) /content/data.mp4: 384x640 20 cars, 10.8ms\n",
            "video 1/1 (frame 596/716) /content/data.mp4: 384x640 23 cars, 10.8ms\n",
            "video 1/1 (frame 597/716) /content/data.mp4: 384x640 23 cars, 10.8ms\n",
            "video 1/1 (frame 598/716) /content/data.mp4: 384x640 21 cars, 10.9ms\n",
            "video 1/1 (frame 599/716) /content/data.mp4: 384x640 21 cars, 14.9ms\n",
            "video 1/1 (frame 600/716) /content/data.mp4: 384x640 21 cars, 16.1ms\n",
            "video 1/1 (frame 601/716) /content/data.mp4: 384x640 22 cars, 10.8ms\n",
            "video 1/1 (frame 602/716) /content/data.mp4: 384x640 22 cars, 14.9ms\n",
            "video 1/1 (frame 603/716) /content/data.mp4: 384x640 22 cars, 10.8ms\n",
            "video 1/1 (frame 604/716) /content/data.mp4: 384x640 23 cars, 11.5ms\n",
            "video 1/1 (frame 605/716) /content/data.mp4: 384x640 23 cars, 13.9ms\n",
            "video 1/1 (frame 606/716) /content/data.mp4: 384x640 23 cars, 15.7ms\n",
            "video 1/1 (frame 607/716) /content/data.mp4: 384x640 23 cars, 10.8ms\n",
            "video 1/1 (frame 608/716) /content/data.mp4: 384x640 24 cars, 10.8ms\n",
            "video 1/1 (frame 609/716) /content/data.mp4: 384x640 24 cars, 10.8ms\n",
            "video 1/1 (frame 610/716) /content/data.mp4: 384x640 24 cars, 13.6ms\n",
            "video 1/1 (frame 611/716) /content/data.mp4: 384x640 24 cars, 10.8ms\n",
            "video 1/1 (frame 612/716) /content/data.mp4: 384x640 25 cars, 15.9ms\n",
            "video 1/1 (frame 613/716) /content/data.mp4: 384x640 25 cars, 18.9ms\n",
            "video 1/1 (frame 614/716) /content/data.mp4: 384x640 22 cars, 16.1ms\n",
            "video 1/1 (frame 615/716) /content/data.mp4: 384x640 23 cars, 10.8ms\n",
            "video 1/1 (frame 616/716) /content/data.mp4: 384x640 23 cars, 15.8ms\n",
            "video 1/1 (frame 617/716) /content/data.mp4: 384x640 23 cars, 13.8ms\n",
            "video 1/1 (frame 618/716) /content/data.mp4: 384x640 21 cars, 16.0ms\n",
            "video 1/1 (frame 619/716) /content/data.mp4: 384x640 22 cars, 16.1ms\n",
            "video 1/1 (frame 620/716) /content/data.mp4: 384x640 24 cars, 11.2ms\n",
            "video 1/1 (frame 621/716) /content/data.mp4: 384x640 23 cars, 10.8ms\n",
            "video 1/1 (frame 622/716) /content/data.mp4: 384x640 21 cars, 10.8ms\n",
            "video 1/1 (frame 623/716) /content/data.mp4: 384x640 22 cars, 14.2ms\n",
            "video 1/1 (frame 624/716) /content/data.mp4: 384x640 21 cars, 12.2ms\n",
            "video 1/1 (frame 625/716) /content/data.mp4: 384x640 21 cars, 15.5ms\n",
            "video 1/1 (frame 626/716) /content/data.mp4: 384x640 21 cars, 13.5ms\n",
            "video 1/1 (frame 627/716) /content/data.mp4: 384x640 22 cars, 12.1ms\n",
            "video 1/1 (frame 628/716) /content/data.mp4: 384x640 20 cars, 10.8ms\n",
            "video 1/1 (frame 629/716) /content/data.mp4: 384x640 20 cars, 10.9ms\n",
            "video 1/1 (frame 630/716) /content/data.mp4: 384x640 22 cars, 10.9ms\n",
            "video 1/1 (frame 631/716) /content/data.mp4: 384x640 19 cars, 10.8ms\n",
            "video 1/1 (frame 632/716) /content/data.mp4: 384x640 23 cars, 10.8ms\n",
            "video 1/1 (frame 633/716) /content/data.mp4: 384x640 21 cars, 10.8ms\n",
            "video 1/1 (frame 634/716) /content/data.mp4: 384x640 21 cars, 10.8ms\n",
            "video 1/1 (frame 635/716) /content/data.mp4: 384x640 21 cars, 12.2ms\n",
            "video 1/1 (frame 636/716) /content/data.mp4: 384x640 21 cars, 10.9ms\n",
            "video 1/1 (frame 637/716) /content/data.mp4: 384x640 20 cars, 10.8ms\n",
            "video 1/1 (frame 638/716) /content/data.mp4: 384x640 22 cars, 10.7ms\n",
            "video 1/1 (frame 639/716) /content/data.mp4: 384x640 23 cars, 10.8ms\n",
            "video 1/1 (frame 640/716) /content/data.mp4: 384x640 23 cars, 10.8ms\n",
            "video 1/1 (frame 641/716) /content/data.mp4: 384x640 22 cars, 10.8ms\n",
            "video 1/1 (frame 642/716) /content/data.mp4: 384x640 24 cars, 12.1ms\n",
            "video 1/1 (frame 643/716) /content/data.mp4: 384x640 24 cars, 10.8ms\n",
            "video 1/1 (frame 644/716) /content/data.mp4: 384x640 24 cars, 11.5ms\n",
            "video 1/1 (frame 645/716) /content/data.mp4: 384x640 24 cars, 11.2ms\n",
            "video 1/1 (frame 646/716) /content/data.mp4: 384x640 25 cars, 12.2ms\n",
            "video 1/1 (frame 647/716) /content/data.mp4: 384x640 23 cars, 10.8ms\n",
            "video 1/1 (frame 648/716) /content/data.mp4: 384x640 25 cars, 10.8ms\n",
            "video 1/1 (frame 649/716) /content/data.mp4: 384x640 25 cars, 10.8ms\n",
            "video 1/1 (frame 650/716) /content/data.mp4: 384x640 25 cars, 10.8ms\n",
            "video 1/1 (frame 651/716) /content/data.mp4: 384x640 25 cars, 10.8ms\n",
            "video 1/1 (frame 652/716) /content/data.mp4: 384x640 25 cars, 10.8ms\n",
            "video 1/1 (frame 653/716) /content/data.mp4: 384x640 24 cars, 11.0ms\n",
            "video 1/1 (frame 654/716) /content/data.mp4: 384x640 25 cars, 11.4ms\n",
            "video 1/1 (frame 655/716) /content/data.mp4: 384x640 25 cars, 11.2ms\n",
            "video 1/1 (frame 656/716) /content/data.mp4: 384x640 22 cars, 10.7ms\n",
            "video 1/1 (frame 657/716) /content/data.mp4: 384x640 19 cars, 11.5ms\n",
            "video 1/1 (frame 658/716) /content/data.mp4: 384x640 21 cars, 10.8ms\n",
            "video 1/1 (frame 659/716) /content/data.mp4: 384x640 21 cars, 10.8ms\n",
            "video 1/1 (frame 660/716) /content/data.mp4: 384x640 21 cars, 10.8ms\n",
            "video 1/1 (frame 661/716) /content/data.mp4: 384x640 21 cars, 10.8ms\n",
            "video 1/1 (frame 662/716) /content/data.mp4: 384x640 20 cars, 11.0ms\n",
            "video 1/1 (frame 663/716) /content/data.mp4: 384x640 21 cars, 10.8ms\n",
            "video 1/1 (frame 664/716) /content/data.mp4: 384x640 22 cars, 10.8ms\n",
            "video 1/1 (frame 665/716) /content/data.mp4: 384x640 22 cars, 10.8ms\n",
            "video 1/1 (frame 666/716) /content/data.mp4: 384x640 22 cars, 10.8ms\n",
            "video 1/1 (frame 667/716) /content/data.mp4: 384x640 23 cars, 10.8ms\n",
            "video 1/1 (frame 668/716) /content/data.mp4: 384x640 23 cars, 10.7ms\n",
            "video 1/1 (frame 669/716) /content/data.mp4: 384x640 22 cars, 10.8ms\n",
            "video 1/1 (frame 670/716) /content/data.mp4: 384x640 22 cars, 10.8ms\n",
            "video 1/1 (frame 671/716) /content/data.mp4: 384x640 23 cars, 10.8ms\n",
            "video 1/1 (frame 672/716) /content/data.mp4: 384x640 24 cars, 11.7ms\n",
            "video 1/1 (frame 673/716) /content/data.mp4: 384x640 25 cars, 10.8ms\n",
            "video 1/1 (frame 674/716) /content/data.mp4: 384x640 23 cars, 14.8ms\n",
            "video 1/1 (frame 675/716) /content/data.mp4: 384x640 23 cars, 10.8ms\n",
            "video 1/1 (frame 676/716) /content/data.mp4: 384x640 24 cars, 10.8ms\n",
            "video 1/1 (frame 677/716) /content/data.mp4: 384x640 25 cars, 10.8ms\n",
            "video 1/1 (frame 678/716) /content/data.mp4: 384x640 25 cars, 10.8ms\n",
            "video 1/1 (frame 679/716) /content/data.mp4: 384x640 28 cars, 10.9ms\n",
            "video 1/1 (frame 680/716) /content/data.mp4: 384x640 27 cars, 10.8ms\n",
            "video 1/1 (frame 681/716) /content/data.mp4: 384x640 25 cars, 10.8ms\n",
            "video 1/1 (frame 682/716) /content/data.mp4: 384x640 26 cars, 10.8ms\n",
            "video 1/1 (frame 683/716) /content/data.mp4: 384x640 25 cars, 10.9ms\n",
            "video 1/1 (frame 684/716) /content/data.mp4: 384x640 27 cars, 10.8ms\n",
            "video 1/1 (frame 685/716) /content/data.mp4: 384x640 26 cars, 11.2ms\n",
            "video 1/1 (frame 686/716) /content/data.mp4: 384x640 27 cars, 10.8ms\n",
            "video 1/1 (frame 687/716) /content/data.mp4: 384x640 26 cars, 10.8ms\n",
            "video 1/1 (frame 688/716) /content/data.mp4: 384x640 27 cars, 11.7ms\n",
            "video 1/1 (frame 689/716) /content/data.mp4: 384x640 26 cars, 10.8ms\n",
            "video 1/1 (frame 690/716) /content/data.mp4: 384x640 25 cars, 15.7ms\n",
            "video 1/1 (frame 691/716) /content/data.mp4: 384x640 24 cars, 11.2ms\n",
            "video 1/1 (frame 692/716) /content/data.mp4: 384x640 24 cars, 10.9ms\n",
            "video 1/1 (frame 693/716) /content/data.mp4: 384x640 26 cars, 10.8ms\n",
            "video 1/1 (frame 694/716) /content/data.mp4: 384x640 26 cars, 10.7ms\n",
            "video 1/1 (frame 695/716) /content/data.mp4: 384x640 26 cars, 11.0ms\n",
            "video 1/1 (frame 696/716) /content/data.mp4: 384x640 26 cars, 10.8ms\n",
            "video 1/1 (frame 697/716) /content/data.mp4: 384x640 25 cars, 10.8ms\n",
            "video 1/1 (frame 698/716) /content/data.mp4: 384x640 25 cars, 10.8ms\n",
            "video 1/1 (frame 699/716) /content/data.mp4: 384x640 27 cars, 10.8ms\n",
            "video 1/1 (frame 700/716) /content/data.mp4: 384x640 29 cars, 10.8ms\n",
            "video 1/1 (frame 701/716) /content/data.mp4: 384x640 29 cars, 13.0ms\n",
            "video 1/1 (frame 702/716) /content/data.mp4: 384x640 29 cars, 10.8ms\n",
            "video 1/1 (frame 703/716) /content/data.mp4: 384x640 28 cars, 11.4ms\n",
            "video 1/1 (frame 704/716) /content/data.mp4: 384x640 29 cars, 10.8ms\n",
            "video 1/1 (frame 705/716) /content/data.mp4: 384x640 26 cars, 12.6ms\n",
            "video 1/1 (frame 706/716) /content/data.mp4: 384x640 25 cars, 11.7ms\n",
            "video 1/1 (frame 707/716) /content/data.mp4: 384x640 27 cars, 10.9ms\n",
            "video 1/1 (frame 708/716) /content/data.mp4: 384x640 26 cars, 10.8ms\n",
            "video 1/1 (frame 709/716) /content/data.mp4: 384x640 23 cars, 10.9ms\n",
            "video 1/1 (frame 710/716) /content/data.mp4: 384x640 24 cars, 10.8ms\n",
            "video 1/1 (frame 711/716) /content/data.mp4: 384x640 24 cars, 10.8ms\n",
            "video 1/1 (frame 712/716) /content/data.mp4: 384x640 25 cars, 10.9ms\n",
            "video 1/1 (frame 713/716) /content/data.mp4: 384x640 23 cars, 10.8ms\n",
            "video 1/1 (frame 714/716) /content/data.mp4: 384x640 23 cars, 10.8ms\n",
            "video 1/1 (frame 715/716) /content/data.mp4: 384x640 27 cars, 10.7ms\n",
            "video 1/1 (frame 716/716) /content/data.mp4: 384x640 26 cars, 10.8ms\n",
            "Speed: 3.8ms preprocess, 12.0ms inference, 1.7ms postprocess per image at shape (1, 3, 384, 640)\n",
            "Results saved to \u001b[1mruns/detect/predict\u001b[0m\n"
          ]
        }
      ]
    }
  ]
}